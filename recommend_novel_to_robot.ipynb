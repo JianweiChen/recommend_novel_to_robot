{
 "cells": [
  {
   "cell_type": "code",
   "execution_count": 408,
   "metadata": {},
   "outputs": [
    {
     "name": "stdout",
     "output_type": "stream",
     "text": [
      "The autoreload extension is already loaded. To reload it, use:\n",
      "  %reload_ext autoreload\n"
     ]
    }
   ],
   "source": [
    "%load_ext autoreload\n",
    "%autoreload 2"
   ]
  },
  {
   "cell_type": "markdown",
   "metadata": {},
   "source": [
    "这个notebook包括所有执行代码，主要逻辑则包括再action_machine.py, event_manager.py, novel_helper.py等几个python文件里"
   ]
  },
  {
   "cell_type": "code",
   "execution_count": 2,
   "metadata": {},
   "outputs": [],
   "source": [
    "import os\n",
    "import sys\n",
    "import random\n",
    "import math\n",
    "import collections\n",
    "import logging\n",
    "import pandas as pd\n",
    "import numpy as np\n",
    "\n",
    "from proto.book_def_pb2 import Book as BookDef\n",
    "from proto.book_def_pb2 import BookWarehouse\n",
    "from proto.user_def_pb2 import Robot as RobotDef\n",
    "from proto.user_def_pb2 import RobotRegiment\n",
    "from proto.user_def_pb2 import RobotArmy\n",
    "\n",
    "from novel_helper import NovelHelper\n",
    "from novel_helper import BookWarehouseDumper\n",
    "from novel_helper import S\n",
    "\n",
    "from enlighten_helper import EnlightenHelper\n",
    "\n",
    "from action_machine import ActionMachine\n",
    "from event_manager import EventManager"
   ]
  },
  {
   "cell_type": "markdown",
   "metadata": {},
   "source": [
    "BookWarehouseDumper用于将爬虫抓的语料生成book_def.proto中的格式"
   ]
  },
  {
   "cell_type": "code",
   "execution_count": 3,
   "metadata": {},
   "outputs": [],
   "source": [
    "# book_warehouse_dumper = BookWarehouseDumper()"
   ]
  },
  {
   "cell_type": "markdown",
   "metadata": {},
   "source": [
    "从fictiontg网站上抓下来的有3万余篇，book_meta_10t.csv文件存储着其中1万篇小说，这样可以保证候选的稳定性。如果确有需要，可以通过以下方式重新生成这个csv文件。注意这个是双下划线的方法，这是为了防止误操作。这样的好处是之后可以用另外的1万本小说来测试系统的效果，看一些现象是否还能复现。"
   ]
  },
  {
   "cell_type": "code",
   "execution_count": 4,
   "metadata": {},
   "outputs": [],
   "source": [
    "# book_warehouse_dumper.__gen_10t_csv()"
   ]
  },
  {
   "cell_type": "markdown",
   "metadata": {},
   "source": [
    "生成book_warehouse，这个过程包括切句切词，1万篇小说要用20分钟以上。结果存储在book_warehouse_1t.bin和book_warehouse_10t.bin两个二进制文件中"
   ]
  },
  {
   "cell_type": "code",
   "execution_count": 5,
   "metadata": {},
   "outputs": [],
   "source": [
    "# book_warehouse_dumper.dump_book_warehouse()"
   ]
  },
  {
   "cell_type": "markdown",
   "metadata": {},
   "source": [
    "从.bin文件加载BookWarehouse进内存，默认是1千篇，可以通过参数改成1万篇"
   ]
  },
  {
   "cell_type": "code",
   "execution_count": 6,
   "metadata": {},
   "outputs": [],
   "source": [
    "book_warehouse_type = '1t'\n",
    "book_warehouse = NovelHelper.load_book_warehouse(book_warehouse_type)"
   ]
  },
  {
   "cell_type": "markdown",
   "metadata": {},
   "source": [
    "生成meta.pkl"
   ]
  },
  {
   "cell_type": "code",
   "execution_count": 24,
   "metadata": {},
   "outputs": [
    {
     "name": "stdout",
     "output_type": "stream",
     "text": [
      " 1000"
     ]
    }
   ],
   "source": [
    "# from novel_helper import MetaManager\n",
    "# meta_manager = MetaManager(book_warehouse)\n",
    "# meta_manager.dump_meta()"
   ]
  },
  {
   "cell_type": "markdown",
   "metadata": {},
   "source": [
    "验证meta.pkl"
   ]
  },
  {
   "cell_type": "code",
   "execution_count": 26,
   "metadata": {},
   "outputs": [],
   "source": [
    "# meta_manager = MetaManager()\n",
    "# k, c, t = meta_manager.load_meta()\n",
    "# len(t)\n",
    "# len(c)\n",
    "# len(t)\n",
    "# list(c.keys())"
   ]
  },
  {
   "cell_type": "markdown",
   "metadata": {},
   "source": [
    "生成NovelHelper，用于辅助统计与词向量训练，需要传入book_warehouse。会同时load之前存好的word_book_count_map和词向量数据"
   ]
  },
  {
   "cell_type": "code",
   "execution_count": 365,
   "metadata": {},
   "outputs": [],
   "source": [
    "novel_helper = NovelHelper(book_warehouse=book_warehouse)"
   ]
  },
  {
   "cell_type": "markdown",
   "metadata": {},
   "source": [
    "一次性的fetch所有较高频单词的汉语翻译"
   ]
  },
  {
   "cell_type": "code",
   "execution_count": 37,
   "metadata": {},
   "outputs": [
    {
     "name": "stdout",
     "output_type": "stream",
     "text": [
      " 2 thirteen 十三                     list index out of range\n",
      "list index out of range\n",
      " 2904 murmurs 杂音                                list index out of range\n",
      " 7920 tern 燕鸥                                      list index out of range\n",
      " 9594 eventuality 可能性                            "
     ]
    }
   ],
   "source": [
    "# novel_helper._fetch_cn_online()"
   ]
  },
  {
   "cell_type": "markdown",
   "metadata": {},
   "source": [
    "统计每个单词在多少篇小说里出现了，结果存到word_book_count.csv中"
   ]
  },
  {
   "cell_type": "code",
   "execution_count": null,
   "metadata": {},
   "outputs": [],
   "source": [
    "# novel_helper.dump_word_book_count_csv()"
   ]
  },
  {
   "cell_type": "markdown",
   "metadata": {},
   "source": [
    "训练词向量（如有需要），会先生成训练语料到wv_corpus.txt，进而训练词向量文件到wv.bin，大约用10分钟"
   ]
  },
  {
   "cell_type": "code",
   "execution_count": null,
   "metadata": {},
   "outputs": [],
   "source": [
    "# novel_helper.train_and_dump_wv_bin()"
   ]
  },
  {
   "cell_type": "markdown",
   "metadata": {},
   "source": [
    "检查词向量效果-相似词"
   ]
  },
  {
   "cell_type": "code",
   "execution_count": 378,
   "metadata": {},
   "outputs": [
    {
     "data": {
      "text/plain": [
       "[('vulva', '外阴', 0.9132454788093003),\n",
       " ('clitoris', '阴蒂', 0.8908607176277381),\n",
       " ('anus', '肛门', 0.8452633226508285),\n",
       " ('cleft', '裂口', 0.8370795520179193),\n",
       " ('vagina', '阴道', 0.8328158347117528),\n",
       " ('glans', '龟头', 0.8287317064412888),\n",
       " ('mons', '蒙斯', 0.8268308055750424),\n",
       " ('clit', '阴蒂', 0.826666791463789),\n",
       " ('rosebud', '玫瑰花蕾', 0.8211361452646154),\n",
       " ('areola', '乳晕', 0.8105542467451445),\n",
       " ('folds', '褶皱', 0.801549813523631),\n",
       " ('mound', '冢', 0.7921795484071403),\n",
       " ('fingertips', '指尖', 0.7837864430293402),\n",
       " ('pussy', '猫', 0.7793713335409808),\n",
       " ('flesh', '肉', 0.7778966859733228),\n",
       " ('cockhead', 'ock头', 0.7756206179127518),\n",
       " ('cunny', 'un', 0.7745795603657973),\n",
       " ('lips', '嘴唇', 0.7735502159188734),\n",
       " ('tongue', '舌', 0.7712116591543574),\n",
       " ('slit', '狭缝', 0.7702142031980264)]"
      ]
     },
     "execution_count": 378,
     "metadata": {},
     "output_type": "execute_result"
    }
   ],
   "source": [
    "r=novel_helper.get_similar_word('labia')\n",
    "r"
   ]
  },
  {
   "cell_type": "markdown",
   "metadata": {},
   "source": [
    "检查词向量效果-类比词"
   ]
  },
  {
   "cell_type": "code",
   "execution_count": 19,
   "metadata": {
    "scrolled": true
   },
   "outputs": [],
   "source": [
    "# r=novel_helper.get_analogy_word('father', 'fuck', 'mother')\n",
    "# r"
   ]
  },
  {
   "cell_type": "markdown",
   "metadata": {},
   "source": [
    "查看所有的keyword、category和rating"
   ]
  },
  {
   "cell_type": "code",
   "execution_count": 76,
   "metadata": {
    "scrolled": false
   },
   "outputs": [],
   "source": [
    "# keyword_bid_set_map, category_bid_set_map = collections.defaultdict(set), collections.defaultdict(set)\n",
    "# rating_bid_set_map = collections.defaultdict(set)\n",
    "# for book in book_warehouse.book:\n",
    "#     for keyword in book.keyword:\n",
    "#         keyword_bid_set_map[keyword.lower()].add(book.bid)\n",
    "#     for category in book.category:\n",
    "#         category_bid_set_map[category.lower()].add(book.bid)\n",
    "#     rating_bid_set_map[book.rating].add(book.bid)\n",
    "# category_book_count_map = {k.lower():len(category_bid_set_map[k]) for k in category_bid_set_map}\n",
    "# keyword_book_count_map = {k.lower():len(keyword_bid_set_map[k]) for k in keyword_bid_set_map}\n",
    "# rating_book_count_map = {k.lower():len(rating_bid_set_map[k]) for k in rating_bid_set_map}\n",
    "# category_data = list(map(lambda x: {'category': x[0].lower(), 'c_book_count': x[1]}, category_book_count_map.items()))\n",
    "# keyword_data = list(map(lambda x: {'keyword': x[0].lower(), 'k_book_count': x[1]}, keyword_book_count_map.items()))\n",
    "# rating_data = list(map(lambda x: {'rating': x[0].lower(), 'r_book_count': x[1]}, rating_book_count_map.items()))\n",
    "# category_data.sort(key=lambda x: x['c_book_count'], reverse=True)\n",
    "# keyword_data.sort(key=lambda x: x['k_book_count'], reverse=True)\n",
    "# rating_data.sort(key=lambda x: x['r_book_count'], reverse=True)\n",
    "# df_category = pd.DataFrame(category_data)\n",
    "# df_keyword = pd.DataFrame(keyword_data)\n",
    "# df_rating = pd.DataFrame(rating_data)\n",
    "# pd.set_option('display.max_rows', 500) # 打印最大行数\n",
    "# df_category\n",
    "# # df_rating\n",
    "# # df_keyword"
   ]
  },
  {
   "cell_type": "markdown",
   "metadata": {},
   "source": [
    "将带有某些特征的book以人类可读的方式dump到library里"
   ]
  },
  {
   "cell_type": "code",
   "execution_count": 80,
   "metadata": {},
   "outputs": [],
   "source": [
    "# bids = list(category_bid_set_map['crime punishment'])\n",
    "# for book in book_warehouse.book:\n",
    "#     if book.bid in bids:\n",
    "#         novel_helper.dump_book_to_library(book)"
   ]
  },
  {
   "cell_type": "markdown",
   "metadata": {},
   "source": [
    "EnlighterHelper，用于生成并enlighten（启蒙）机器人用户大军"
   ]
  },
  {
   "cell_type": "code",
   "execution_count": 7,
   "metadata": {},
   "outputs": [],
   "source": [
    "enlighten_helper = EnlightenHelper(robot_army = None, novel_helper=novel_helper)"
   ]
  },
  {
   "cell_type": "markdown",
   "metadata": {},
   "source": [
    "开始生产RobotUser"
   ]
  },
  {
   "cell_type": "code",
   "execution_count": 8,
   "metadata": {},
   "outputs": [],
   "source": [
    "# enlighten_helper.enlighten_and_dump()"
   ]
  },
  {
   "cell_type": "markdown",
   "metadata": {},
   "source": [
    "加载训练好的RobotArmy"
   ]
  },
  {
   "cell_type": "code",
   "execution_count": 39,
   "metadata": {},
   "outputs": [],
   "source": [
    "# robot_army = EnlightenHelper.load_robot_army()"
   ]
  },
  {
   "cell_type": "markdown",
   "metadata": {},
   "source": [
    "检查机器人军团整体情况"
   ]
  },
  {
   "cell_type": "code",
   "execution_count": 18,
   "metadata": {},
   "outputs": [
    {
     "name": "stdout",
     "output_type": "stream",
     "text": [
      "regiment_count: 10,robot_count: 10000\n"
     ]
    }
   ],
   "source": [
    "# enlighten_helper.report_robot_army(robot_army)"
   ]
  },
  {
   "cell_type": "markdown",
   "metadata": {},
   "source": [
    "检查robot信息（机器人秘书）"
   ]
  },
  {
   "cell_type": "code",
   "execution_count": 85,
   "metadata": {},
   "outputs": [],
   "source": [
    "# robot_army_secret = robot_army.regiment[0].robot[6]\n",
    "# enlighten_helper.get_robot_repr(robot_army_secret)"
   ]
  },
  {
   "cell_type": "markdown",
   "metadata": {},
   "source": [
    "初始化一个ActionMachine"
   ]
  },
  {
   "cell_type": "code",
   "execution_count": 180,
   "metadata": {},
   "outputs": [],
   "source": [
    "action_machine = ActionMachine(novel_helper=novel_helper, robot_army=robot_army)"
   ]
  },
  {
   "cell_type": "markdown",
   "metadata": {},
   "source": [
    "测试`_get_click_drive_score`,`_get_read_drive_score`、`_get_detest_drive_score`"
   ]
  },
  {
   "cell_type": "code",
   "execution_count": 179,
   "metadata": {},
   "outputs": [
    {
     "name": "stdout",
     "output_type": "stream",
     "text": [
      "0.06187081848340892 0.02144914949985688 0.01875598491960219 -0.01981412640888699 0.040873518941113046\n"
     ]
    }
   ],
   "source": [
    "# book_x = book_warehouse.book[0]\n",
    "# robot_user_x = robot_army.regiment[0].robot[0]\n",
    "# chapter = 3\n",
    "# click_drive_score = action_machine._get_click_drive_score(robot_user_x, book_x, sample_loop=2)\n",
    "# read_drive_score = action_machine._get_read_drive_score(robot_user_x, book_x, chapter, sample_loop=2)\n",
    "# detest_title_drive_score = action_machine._get_title_detest_drive_score(robot_user_x, book_x, sample_loop=2)\n",
    "# detest_drive_score = action_machine._get_detest_drive_score(robot_user_x, book_x, chapter, sample_loop=2)\n",
    "# addict_drive_score = action_machine._get_addict_drive_score(robot_user_x, book_x, chapter, sample_loop=2)\n",
    "\n",
    "# print(click_drive_score, read_drive_score, detest_title_drive_score, detest_drive_score, addict_drive_score)"
   ]
  },
  {
   "cell_type": "markdown",
   "metadata": {},
   "source": [
    "运行30个period"
   ]
  },
  {
   "cell_type": "code",
   "execution_count": 478,
   "metadata": {
    "scrolled": true
   },
   "outputs": [
    {
     "name": "stdout",
     "output_type": "stream",
     "text": [
      "period: 30,offline: 4519,recommend: 894,choosing: 2952,click_drive: 1116,read_drive: 252,reading: 267          "
     ]
    }
   ],
   "source": [
    "action_machine = ActionMachine(novel_helper=novel_helper, robot_army=robot_army)\n",
    "action_machine.run(30)"
   ]
  },
  {
   "cell_type": "code",
   "execution_count": 425,
   "metadata": {},
   "outputs": [],
   "source": [
    "from IPython.display import IFrame\n",
    "use_query=\"offline_uid,recommend_uid,choosing_uid,click_drive_uid,read_drive_uid,reading_uid\"\n",
    "# IFrame('http://localhost:8001?use_query='+use_query, width=800, height=600)"
   ]
  },
  {
   "cell_type": "markdown",
   "metadata": {},
   "source": [
    "统计点击率"
   ]
  },
  {
   "cell_type": "code",
   "execution_count": 443,
   "metadata": {},
   "outputs": [
    {
     "data": {
      "text/plain": [
       "[(0.005232341574707827, 171816)]"
      ]
     },
     "execution_count": 443,
     "metadata": {},
     "output_type": "execute_result"
    }
   ],
   "source": [
    "ctr_sql = \"\"\"select 1.0 * sum(case when t2.uid is not null then 1 else 0 end)/sum(1) as ctr, sum(1) as impr_cnt from\n",
    "(select uid, bid from novel_event where event = 'impression') t1 left join\n",
    "(select uid, bid from novel_event where event = 'go_detail') t2 on t1.uid = t2.uid and t1.bid = t2.bid\n",
    "\"\"\"\n",
    "action_machine.query(ctr_sql, reprepare=False)"
   ]
  },
  {
   "cell_type": "code",
   "execution_count": 363,
   "metadata": {},
   "outputs": [
    {
     "data": {
      "text/plain": [
       "[('1423946587589307172', 60, 'The Price of Marrying Nobility Part 2'),\n",
       " ('325621755757732500', 50, 'Absence Makes The Lust'),\n",
       " ('34287264511000583002', 50, 'The Softening of Jessie ( Part 32 )'),\n",
       " ('127859655679861804', 46, \"Trudy 's Story\"),\n",
       " ('336986046810351352', 46, 'Mistress By Mail'),\n",
       " ('3409257891420842390', 40, 'Dreamer , Nothing but a dreamer'),\n",
       " ('127168970326450523', 35, 'The Girl/The Boy , Part 3'),\n",
       " ('3413599821149761488', 32, 'Atonement'),\n",
       " ('33269915831418686456', 27, \"Mom 's Unique Punishment Part 2\"),\n",
       " ('1274199823401742076', 26, 'A Fantasy in Shades of Scarlett'),\n",
       " ('1348390261421201042',\n",
       "  26,\n",
       "  'ChangeDay : Das erste Mal in Deutschland Teil 8'),\n",
       " ('1401503975607934679', 25, 'Camera of Change : Beginnings'),\n",
       " ('1515525666140111867', 25, 'Emma The Beginning Part 4'),\n",
       " ('3037098169199044252', 25, 'Chatting with Jack Chalker 3 Post-Chat'),\n",
       " ('31976486902423322941', 25, 'A Quick History of FM'),\n",
       " ('337789402964975315', 24, 'Chrissy the Masseuse Chapter 4'),\n",
       " ('33044749891545958440', 23, 'The Rise of Michelle II'),\n",
       " ('3296979930122025633', 22, 'Gaby Part 13 : Easter Break'),\n",
       " ('32342311152840826', 20, 'Our New Life Part 4 : Stimulation'),\n",
       " ('1489202851488613929', 16, \"The Rescuer 's Perspective-Part Two\"),\n",
       " ('1342456037226485882', 15, 'Cartoon Karma'),\n",
       " ('1323547584511420701', 14, 'He To She ( Part Three )'),\n",
       " ('31945238341841530451', 14, 'SRU : Just Is Served'),\n",
       " ('33267607521365308471', 14, \"Nicole 's Wedding\"),\n",
       " ('3368313076821995148', 14, 'Der auferstandene Hexenmeister Teile 1-3'),\n",
       " ('1492307464338698879', 13, 'Quality Time'),\n",
       " ('32882598861636490330', 13, 'Peter and Dash : A Turn Part II'),\n",
       " ('1347811666154169021',\n",
       "  12,\n",
       "  'ChangeDay : Das erste Mal in Deutschland Teil 2'),\n",
       " ('1464367615209314303', 12, 'Aus Marc wird Marcy ( 3 )'),\n",
       " ('3035893994103675083', 12, 'Chatting with Nostrumo'),\n",
       " ('3050187382238946190', 12, 'Kyrie Eleison'),\n",
       " ('1331644080938185728', 11, 'Der Flaschengeist Teil 35'),\n",
       " ('14556800891274573737', 11, 'Chasing the White Rabbit : A TG Mixed Tape'),\n",
       " ('3259880062492655638', 11, 'eines Abends in der Wirtschaft'),\n",
       " ('136659574058338060', 10, 'The Sacrificial Boy : Chapter 14'),\n",
       " ('3356387791615835872', 10, '2 Fast 2 Feminine EX'),\n",
       " ('124384005620838115', 9, 'Vegas'),\n",
       " ('124394863352876368', 9, 'Indoor Games'),\n",
       " ('1255766002627507238', 9, 'Staid Roses and Other Poems'),\n",
       " ('1348782318613080629', 9, \"Apollo 's Children\"),\n",
       " ('1540310422596602462', 9, 'Kiss Me , Bianca 9'),\n",
       " ('33039277931442413815', 9, 'The Box'),\n",
       " ('1431009125124575156', 8, 'Interview With a Sissy'),\n",
       " ('3041778224112980234', 8, \"Changing Channels Part 3- Mitch 's Story\"),\n",
       " ('322745503981584016', 8, 'A New View'),\n",
       " ('152550048441748789', 7, 'The Goddess Of Chainmail Bikinis'),\n",
       " ('1555795176243364920', 7, 'Die Eselswirtin'),\n",
       " ('31943488121812346701', 7, 'Turkish Delight'),\n",
       " ('325078346661857443', 7, \"We 'll Go To The Ball\"),\n",
       " ('3255627449604339838', 7, 'Wie das Leben doch so spielt'),\n",
       " ('337296781912674006', 7, 'Sweet Confusions'),\n",
       " ('1472066582267981817', 6, 'Miss Athena Supreme'),\n",
       " ('3321223907193522829', 6, 'A Different Plane of Existence Part 6'),\n",
       " ('337547533314190500',\n",
       "  6,\n",
       "  'Salt and Pepper . Sugar and Spice - Chapter 14 - Real friends'),\n",
       " ('3409627003496096660', 6, 'Your Wish Come True : Chapter 4 -- The Tattoo'),\n",
       " ('1327785155668117475', 5, 'Feline Uprising'),\n",
       " ('13365824174750674', 5, 'Read the Label'),\n",
       " ('14521049281163400536', 5, 'Matching Dresses'),\n",
       " ('1476260008730920688', 5, 'Ich werde Mutter ( Teil 1 )'),\n",
       " ('150538865010056276',\n",
       "  5,\n",
       "  'Dr. Zaaijer Family Therapist : Role Reversal Part 4'),\n",
       " ('1533137565457974812', 5, 'Diary Valerie L. Sinclaire Pt1'),\n",
       " ('155882504661558833', 5, 'Alice and Angela go Golfing -12-'),\n",
       " ('3276344148348776593', 5, 'The Big One - Part Two'),\n",
       " ('33056955821772551098', 5, 'My Brother , My Sister , Part III'),\n",
       " ('3323032588554893803', 5, 'Elisabeth Grey - Parts 23 - 24'),\n",
       " ('1298899570506358566', 4, 'A Warrior Reborn'),\n",
       " ('1307712074841067042', 4, \"Joe 's New Look : Sexy Joe and Viewtiful Sylvia\"),\n",
       " ('130986646343663861', 4, 'Tequila Sunrise ( Parts 6 and 7 )'),\n",
       " ('133960220673116393', 4, 'The Ship , the Oasis , the Book , the Slave'),\n",
       " ('1423429773233889373', 4, 'Relationships Are Made'),\n",
       " ('1443059073293376496', 4, 'Vengeance and Beyond ( Part III of III )'),\n",
       " ('1489421452110857475', 4, 'Shorts'),\n",
       " ('1489683010100937969', 4, \"The Rescuer 's Perspective-Part Three\"),\n",
       " ('1491801990117021113', 4, 'Market Research'),\n",
       " ('1510829338903133758', 4, 'Emma The Beginning Part 2'),\n",
       " ('3366861539530335113', 4, \"Detective 's Blues , Chapter Thirteen\"),\n",
       " ('33968458861411767098', 4, 'Fusion : Second Chance'),\n",
       " ('1253538458126220858', 3, 'The Sitter , Part 3'),\n",
       " ('1368230102197109245', 3, 'Becoming Sue ( Part 2 )'),\n",
       " ('1379364965221606406', 3, 'A Farm Story Part 2'),\n",
       " ('1429630046355976700',\n",
       "  3,\n",
       "  'The Platinum Chef : A Tale of Delacroix , Part XXIX ( b )'),\n",
       " ('1479736900610996805', 3, 'A Changing Life Chapter 7'),\n",
       " ('149038691964484307',\n",
       "  3,\n",
       "  'Book of Common Prayer - Prayers For Weekdays , Wednesday - ACT OF VENERATION'),\n",
       " ('1513508797733723964', 3, 'Rosie2'),\n",
       " ('152322138896680443', 3, 'Indian Red'),\n",
       " ('1556544384121610780', 3, 'The Way Back Home'),\n",
       " ('3044728849423931088', 3, 'Graduation Day'),\n",
       " ('33382378501140738420', 3, 'Der Dachboden 3'),\n",
       " ('3340571931415057893', 3, 'MAU : Rangers Rising'),\n",
       " ('336303619583831887', 3, 'The Thing Below .'),\n",
       " ('1262507767450066987', 2, 'Bianca Paragon - Part Two'),\n",
       " ('1287753364159197687', 2, \"Amanda 's Journey , Day 2 Part 3\"),\n",
       " ('129076486856733920', 2, 'Culture Clash'),\n",
       " ('1350306286710076302', 2, 'The Tale of Two Girls Part 9'),\n",
       " ('1362139429180443460',\n",
       "  2,\n",
       "  \"Find That Guy : Round 2 , This Time It 's Vaginal\"),\n",
       " ('136876875955977936', 2, \"Jessica 's Live-In Babysitter - Part 7\"),\n",
       " ('139141341079751791', 2, 'New Age Technologies - Shredmill 3000'),\n",
       " ('1393021831107147675',\n",
       "  2,\n",
       "  'Maid to Measure , or Sissy Slave by Deesign , Part 3'),\n",
       " ('1403489478247848578', 2, 'Nikolai and the Pink Rose'),\n",
       " ('1408970543120719749', 2, 'Becoming The Gurl Of The House , Part 2'),\n",
       " ('1418759926216988632', 2, 'Workaholic'),\n",
       " ('14206665461096540511', 2, 'It was a Dark and Stormy Night'),\n",
       " ('1435200571212397887', 2, 'The Mexican Magician'),\n",
       " ('1462735270889438645', 2, 'Die WG Teil 1'),\n",
       " ('1473101536747966620', 2, 'Beneath the Veil - Part 1'),\n",
       " ('1474621642294607942', 2, 'The Yellow Sundress - Ch 07 - Research'),\n",
       " ('1485796755863038527', 2, 'Escapism : The Modern Man'),\n",
       " ('1494524747142943994', 2, 'The Beard'),\n",
       " ('150801379660298051', 2, 'Finishing School For Young Ladies - Chapter Ten'),\n",
       " ('15088676504850034', 2, 'Time to Pay ( Chapter 3 )'),\n",
       " ('150906168652585695', 2, 'Emma'),\n",
       " ('1521415649146457355', 2, 'Beach Holiday'),\n",
       " ('1537851635118832089', 2, 'Nerd-No-More -- Ad # 2'),\n",
       " ('1540453005665864797', 2, \"Ka'as Nashim\"),\n",
       " ('1551816032390914149', 2, 'The Prisoner Wore Panties - Chapter One'),\n",
       " ('29733328991185799', 2, 'Snuggle Bunny'),\n",
       " ('3042930199225624621', 2, 'Lucky Seven Of Nine'),\n",
       " ('3183651221208210647', 2, 'The Pebble - a Sequel'),\n",
       " ('31959366062101448517', 2, 'Andersonville 1 - Home Sweet Home'),\n",
       " ('319891155015515622', 2, 'The Sands of Destiny 1'),\n",
       " ('320086255343941371', 2, 'To Serve Ania'),\n",
       " ('3231985915379328060', 2, \"Jennifer 's Birth\"),\n",
       " ('3232866865536449653', 2, 'Star Wars 3 , Pt . 1'),\n",
       " ('3241909694241532984', 2, 'Marshals : Iris'),\n",
       " ('324220660312015940', 2, 'Whatever Ester Wants'),\n",
       " ('3253310902227579783', 2, 'Cuckold'),\n",
       " ('3258729934293640316', 2, \"Archie 's Weirdest Mystery : Part 2\"),\n",
       " ('3283864893878346074', 2, \"A Possible Origin of Spells ' r Us\"),\n",
       " ('32859755001245584528', 2, 'The Red Witch'),\n",
       " ('3290659209341232811', 2, 'Kelly Girl Chapter 11 : Little Big Girl'),\n",
       " ('33054015151722397320', 2, \"Lori 's Training Day Two\"),\n",
       " ('33194748832468047903', 2, 'The Immortal Witch Inn Part 2 : Tomboy'),\n",
       " ('33320512482449137249', 2, 'Secret Salons'),\n",
       " ('338348292851237376', 2, 'Secret Shared'),\n",
       " ('3391114843232631321', 2, 'Secret Moments 7'),\n",
       " ('33981355191677029415', 2, \"Veteran 's Benifets - Part A\"),\n",
       " ('3407790883115788510', 2, 'Rings of Transformation'),\n",
       " ('3432507781320180960', 2, \"Jason 's Story - Chapters 45-49\"),\n",
       " ('1244274670123478790', 1, \"Julie 's Wedding\"),\n",
       " ('125049214175683957', 1, 'Forced to be Female , part 2'),\n",
       " ('1269709000158276384', 1, 'Sister Ellen and The Order of Saint Silenus'),\n",
       " ('128291941359244521', 1, 'The Present'),\n",
       " ('1285427908196411560', 1, 'Girls Cum Together 3'),\n",
       " ('1285605235239814358', 1, 'How I started wearing Girls Clothing'),\n",
       " ('1290435824274305885',\n",
       "  1,\n",
       "  'From the Bottom Rung : A Sequel to Life at Ann Taylor'),\n",
       " ('1297865064172978819', 1, 'Le nouveau comptable - Partie 9'),\n",
       " ('1300282049287159698', 1, 'The Quick Transformation'),\n",
       " ('131182196425502755', 1, 'The Incredible Diary of Paula Page'),\n",
       " ('1326062530701031772', 1, 'The Ring Game'),\n",
       " ('1337298811313842381', 1, 'Experiments part 3'),\n",
       " ('133960113372674618', 1, 'House Arrest 2'),\n",
       " ('1339684952111275570', 1, 'My Story'),\n",
       " ('1344441957605093565', 1, 'How Not To Babysit - part 23'),\n",
       " ('1352924858446462239', 1, 'The Pool Boy'),\n",
       " ('1354220245543934994', 1, 'The Creature -- chapter six'),\n",
       " ('135538085733747190', 1, 'The Young Master Chapter 5'),\n",
       " ('136633395036743423', 1, 'Watch Out ! In westside woods Part 1 of 2'),\n",
       " ('13796904072198920', 1, \"You 're Such a Wimp\"),\n",
       " ('13848287011127632924', 1, \"Women 's Preference\"),\n",
       " ('1389147855896477503', 1, 'The Rosedale Enigma'),\n",
       " ('1400939943347308513', 1, \"My Best Friend 's Girl Chapter 2\"),\n",
       " ('1406929452110433053', 1, 'The Honeypot Ch . 03'),\n",
       " ('1409588034203913770', 1, 'A Controlled Life Chapter 27'),\n",
       " ('1419921397733469477', 1, 'Best Halloween Ever - part 6'),\n",
       " ('142310604539956810', 1, 'Modern Age'),\n",
       " ('1434411776177455920', 1, 'Pussies'),\n",
       " ('1437716403106917980', 1, \"Lover 's Wish\"),\n",
       " ('1439091039747635652', 1, 'The Music Celebrates With Me : A TG Mixed Tape'),\n",
       " ('1440639894255021827', 1, 'My Weekend as a Cleaner'),\n",
       " ('1442957567252505600', 1, 'Katie Cooper and the Goblet of Fire'),\n",
       " ('144867645468404536', 1, 'Thanks For The Mammaries'),\n",
       " ('1462851973943821649', 1, 'A Brand New Start ( Part One )'),\n",
       " ('1473081262736284093', 1, 'Kidnapped Chapter 5'),\n",
       " ('1473191643792863970', 1, 'Harem Girl of Gor Chapter Three'),\n",
       " ('1483105458466549484', 1, 'The Foolish Prince'),\n",
       " ('1483595276717479850', 1, 'The Yellow Sundress - Ch 23 - Epilogue'),\n",
       " ('1488750069256126372', 1, 'Jacinta , part 5'),\n",
       " ('1489201309487897016', 1, \"LTD , Malissa 's Academy , 38\"),\n",
       " ('149039369268220736', 1, 'Shadowsblade Four funerals and a Movie'),\n",
       " ('1492550381451253720', 1, 'Maid for the Job - Final Chapter'),\n",
       " ('1494025157219421366', 1, \"Portia 's Confession\"),\n",
       " ('1496901227168878539', 1, 'Mind Swapping Chapter 08'),\n",
       " ('150397507864478169', 1, 'Silver Linings - Chapter Five - Contract Signed'),\n",
       " ('1509742769386560521', 1, 'The Deeper Program'),\n",
       " ('1513976866151301052', 1, 'The bimbotron'),\n",
       " ('1520340750365990336', 1, 'Comic Con Con 3'),\n",
       " ('153486966090480285', 1, 'Being Gamma'),\n",
       " ('1538537785449203069', 1, 'Rhw Secret of Pink Kryptonite'),\n",
       " ('1539617671261655515', 1, 'The White Apron Did It'),\n",
       " ('1550699769274275622', 1, 'The Salon Assistant - Part 6'),\n",
       " ('1552205076118373741', 1, 'After the Pantomime - Part 9'),\n",
       " ('1554668730103591496', 1, 'How could you !'),\n",
       " ('2971460372178409', 1, \"Lady 's Knight\"),\n",
       " ('29739178822542979', 1, 'Letter to Staff'),\n",
       " ('29918510902051168', 1, 'Achoo'),\n",
       " ('30079564524773221', 1, 'Slaves of Acteon'),\n",
       " ('301534298958414922', 1, 'The Mistake'),\n",
       " ('301672624822130913', 1, 'Puzzle : The Things We Do For Love'),\n",
       " ('301845350878102329', 1, \"SRU-AF : A Wizard 's Altered Fate\"),\n",
       " ('301958514120966441', 1, 'I Dream of Sabrina'),\n",
       " ('30398558657011797', 1, \"Julie 's S2K Story\"),\n",
       " ('3042999217232402807', 1, 'My Strange Halloween'),\n",
       " ('3187697006766145251', 1, 'TV Listings for the TG Network'),\n",
       " ('3188431092878376579',\n",
       "  1,\n",
       "  \"Ine 's Bouquet 1 - Hero Ine 's Floral Arrangement : The Beginning\"),\n",
       " ('31929084241565941108', 1, 'Sensational Swimwear : He Hates Tights'),\n",
       " ('3202979010147181627',\n",
       "  1,\n",
       "  \"Jackie 's Adventures in Utopia : A Sweet and Sexy Serial , # 1\"),\n",
       " ('3211908550121483766', 1, \"Thorvald 's Sage\"),\n",
       " ('32223022538191913', 1, \"They 'll Be Some Changes Made\"),\n",
       " ('322987398852723741', 1, 'Caught with Consequences Pt II'),\n",
       " ('3231093687241867792', 1, 'Majorette'),\n",
       " ('323592876531366318', 1, 'In Her Service'),\n",
       " ('324423169646157991', 1, 'A Life Everchanging # 3 - To Show I Care'),\n",
       " ('324501378520801924', 1, 'Irony'),\n",
       " ('3253040685180811484', 1, 'Mantra : Day of the Storm God'),\n",
       " ('3254110567350693336',\n",
       "  1,\n",
       "  'The Greatest Lie , Chapter 13 , Does Life Imitate Art ?'),\n",
       " ('326902301244527133', 1, 'The Secrets That We Keep'),\n",
       " ('3281971298547893966', 1, 'A Christmas Wish'),\n",
       " ('32882370381631766255', 1, \"My Best Friend 's Sister Part 7\"),\n",
       " ('3291676855524810071', 1, 'Well It Has Happened'),\n",
       " ('3299761198665717414', 1, 'Desires on Hold Part 4'),\n",
       " ('33052134221687210122', 1, 'A New Life For Me'),\n",
       " ('33128827921093782323', 1, 'Lucien - Part 2'),\n",
       " ('33264190161290893995', 1, 'Birth of a New Sissy Part III : Completion'),\n",
       " ('33316318872361165346', 1, 'The Pencil Never Lies'),\n",
       " ('3337134525903927703', 1, \"Jen 's first real lover\"),\n",
       " ('333910493196401375', 1, \"Larry 's Test\"),\n",
       " ('3339294694136734266',\n",
       "  1,\n",
       "  'Mountains of Rubber , Chapter 9 : Dark and Airless [ The Conclusion ]'),\n",
       " ('3342237727759730552', 1, 'My Feminization'),\n",
       " ('3344035295260130212',\n",
       "  1,\n",
       "  \"Sanura 's Tale - Part 4 ( A MORFS Universe Story )\"),\n",
       " ('3349964040315245151', 1, 'My College Education'),\n",
       " ('3349990250320621034', 1, 'Awaking Chapter 2'),\n",
       " ('3352064073205643943', 1, 'Claudia'),\n",
       " ('336994744428902178',\n",
       "  1,\n",
       "  'Orb and Prophecy : Mission ( Part 8 of about 13 )'),\n",
       " ('3376516408222817803', 1, 'Tabatha - Part I'),\n",
       " ('3380144078128483205', 1, \"Mom 's Unique Punishment - Conclusion\"),\n",
       " ('3382663088506560496', 1, \"Angel 's Tale - Part 15\"),\n",
       " ('338774269133205279', 1, 'A Little Wager'),\n",
       " ('33964695711334529784', 1, 'Becoming Brandee , Chapter Seven'),\n",
       " ('3404853924619279509', 1, \"Altered Fates : Kyle 's Tale\"),\n",
       " ('3409283390425665038',\n",
       "  1,\n",
       "  'Your Wish Come True : Chapter 3 -- Strange Obsessions'),\n",
       " ('3427690109798675156', 1, 'Bound'),\n",
       " ('3432333015286478647', 1, 'Maiden By Decree Chapter 11')]"
      ]
     },
     "execution_count": 363,
     "metadata": {},
     "output_type": "execute_result"
    }
   ],
   "source": [
    "\n",
    "read_count_per_book_sql = \"\"\"\n",
    "select bid, count(*) as read_cnt from novel_event where event = 'go_detail' \n",
    "group by bid order by read_cnt desc limit 1000\n",
    "\"\"\"\n",
    "how_many_book_sql = \"\"\"\n",
    "select count(distinct bid) from novel_event\n",
    "\"\"\"\n",
    "row_list = action_machine.query(read_count_per_book_sql, reprepare=False)\n",
    "tp_list = []\n",
    "for row in row_list:\n",
    "    bid = row[0]\n",
    "    title = ' '.join(list(action_machine.book_map[bid]._book_def.title.word))\n",
    "    tp = (row[0], row[1], title)\n",
    "    tp_list.append(tp)\n",
    "tp_list"
   ]
  },
  {
   "cell_type": "code",
   "execution_count": null,
   "metadata": {},
   "outputs": [],
   "source": []
  }
 ],
 "metadata": {
  "kernelspec": {
   "display_name": "Python 3",
   "language": "python",
   "name": "python3"
  },
  "language_info": {
   "codemirror_mode": {
    "name": "ipython",
    "version": 3
   },
   "file_extension": ".py",
   "mimetype": "text/x-python",
   "name": "python",
   "nbconvert_exporter": "python",
   "pygments_lexer": "ipython3",
   "version": "3.6.3"
  },
  "toc": {
   "base_numbering": 1,
   "nav_menu": {},
   "number_sections": true,
   "sideBar": true,
   "skip_h1_title": false,
   "title_cell": "Table of Contents",
   "title_sidebar": "Contents",
   "toc_cell": false,
   "toc_position": {},
   "toc_section_display": true,
   "toc_window_display": false
  }
 },
 "nbformat": 4,
 "nbformat_minor": 4
}
