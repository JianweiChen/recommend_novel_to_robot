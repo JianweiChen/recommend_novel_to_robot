{
 "cells": [
  {
   "cell_type": "code",
   "execution_count": 1,
   "metadata": {},
   "outputs": [],
   "source": [
    "%load_ext autoreload\n",
    "%autoreload 2"
   ]
  },
  {
   "cell_type": "markdown",
   "metadata": {},
   "source": [
    "这个notebook包括所有执行代码，主要逻辑则包括再action_machine.py, event_manager.py, novel_helper.py等几个python文件里"
   ]
  },
  {
   "cell_type": "code",
   "execution_count": 2,
   "metadata": {},
   "outputs": [],
   "source": [
    "import os\n",
    "import sys\n",
    "import random\n",
    "import math\n",
    "import collections\n",
    "import logging\n",
    "import pandas as pd\n",
    "import numpy as np\n",
    "\n",
    "from proto.book_def_pb2 import Book as BookDef\n",
    "from proto.book_def_pb2 import BookWarehouse\n",
    "from proto.user_def_pb2 import Robot as RobotDef\n",
    "from proto.user_def_pb2 import RobotRegiment\n",
    "from proto.user_def_pb2 import RobotArmy\n",
    "\n",
    "from novel_helper import NovelHelper\n",
    "from novel_helper import BookWarehouseDumper\n",
    "from novel_helper import S\n",
    "\n",
    "from enlighten_helper import EnlightenHelper\n",
    "\n",
    "from action_machine import ActionMachine\n",
    "from event_manager import EventManager"
   ]
  },
  {
   "cell_type": "markdown",
   "metadata": {},
   "source": [
    "BookWarehouseDumper用于将爬虫抓的语料生成book_def.proto中的格式"
   ]
  },
  {
   "cell_type": "code",
   "execution_count": 3,
   "metadata": {},
   "outputs": [],
   "source": [
    "# book_warehouse_dumper = BookWarehouseDumper()"
   ]
  },
  {
   "cell_type": "markdown",
   "metadata": {},
   "source": [
    "从fictiontg网站上抓下来的有3万余篇，book_meta_10t.csv文件存储着其中1万篇小说，这样可以保证候选的稳定性。如果确有需要，可以通过以下方式重新生成这个csv文件。注意这个是双下划线的方法，这是为了防止误操作。这样的好处是之后可以用另外的1万本小说来测试系统的效果，看一些现象是否还能复现。"
   ]
  },
  {
   "cell_type": "code",
   "execution_count": 4,
   "metadata": {},
   "outputs": [],
   "source": [
    "# book_warehouse_dumper.__gen_10t_csv()"
   ]
  },
  {
   "cell_type": "markdown",
   "metadata": {},
   "source": [
    "生成book_warehouse，这个过程包括切句切词，1万篇小说要用20分钟以上。结果存储在book_warehouse_1t.bin和book_warehouse_10t.bin两个二进制文件中"
   ]
  },
  {
   "cell_type": "code",
   "execution_count": 5,
   "metadata": {},
   "outputs": [],
   "source": [
    "# book_warehouse_dumper.dump_book_warehouse()"
   ]
  },
  {
   "cell_type": "markdown",
   "metadata": {},
   "source": [
    "从.bin文件加载BookWarehouse进内存，默认是1千篇，可以通过参数改成1万篇"
   ]
  },
  {
   "cell_type": "code",
   "execution_count": 6,
   "metadata": {},
   "outputs": [],
   "source": [
    "book_warehouse_type = '1t'\n",
    "book_warehouse = NovelHelper.load_book_warehouse(book_warehouse_type)"
   ]
  },
  {
   "cell_type": "markdown",
   "metadata": {},
   "source": [
    "生成meta.pkl"
   ]
  },
  {
   "cell_type": "code",
   "execution_count": 24,
   "metadata": {},
   "outputs": [
    {
     "name": "stdout",
     "output_type": "stream",
     "text": [
      " 1000"
     ]
    }
   ],
   "source": [
    "# from novel_helper import MetaManager\n",
    "# meta_manager = MetaManager(book_warehouse)\n",
    "# meta_manager.dump_meta()"
   ]
  },
  {
   "cell_type": "markdown",
   "metadata": {},
   "source": [
    "验证meta.pkl"
   ]
  },
  {
   "cell_type": "code",
   "execution_count": 26,
   "metadata": {},
   "outputs": [],
   "source": [
    "# meta_manager = MetaManager()\n",
    "# k, c, t = meta_manager.load_meta()\n",
    "# len(t)\n",
    "# len(c)\n",
    "# len(t)\n",
    "# list(c.keys())"
   ]
  },
  {
   "cell_type": "markdown",
   "metadata": {},
   "source": [
    "生成NovelHelper，用于辅助统计与词向量训练，需要传入book_warehouse。会同时load之前存好的word_book_count_map和词向量数据"
   ]
  },
  {
   "cell_type": "code",
   "execution_count": 35,
   "metadata": {},
   "outputs": [],
   "source": [
    "novel_helper = NovelHelper(book_warehouse=book_warehouse)"
   ]
  },
  {
   "cell_type": "markdown",
   "metadata": {},
   "source": [
    "一次性的fetch所有较高频单词的汉语翻译"
   ]
  },
  {
   "cell_type": "code",
   "execution_count": 37,
   "metadata": {},
   "outputs": [
    {
     "name": "stdout",
     "output_type": "stream",
     "text": [
      " 2 thirteen 十三                     list index out of range\n",
      "list index out of range\n",
      " 2904 murmurs 杂音                                list index out of range\n",
      " 7920 tern 燕鸥                                      list index out of range\n",
      " 9594 eventuality 可能性                            "
     ]
    }
   ],
   "source": [
    "# novel_helper._fetch_cn_online()"
   ]
  },
  {
   "cell_type": "markdown",
   "metadata": {},
   "source": [
    "统计每个单词在多少篇小说里出现了，结果存到word_book_count.csv中"
   ]
  },
  {
   "cell_type": "code",
   "execution_count": null,
   "metadata": {},
   "outputs": [],
   "source": [
    "# novel_helper.dump_word_book_count_csv()"
   ]
  },
  {
   "cell_type": "markdown",
   "metadata": {},
   "source": [
    "训练词向量（如有需要），会先生成训练语料到wv_corpus.txt，进而训练词向量文件到wv.bin，大约用10分钟"
   ]
  },
  {
   "cell_type": "code",
   "execution_count": null,
   "metadata": {},
   "outputs": [],
   "source": [
    "# novel_helper.train_and_dump_wv_bin()"
   ]
  },
  {
   "cell_type": "markdown",
   "metadata": {},
   "source": [
    "检查词向量效果-相似词"
   ]
  },
  {
   "cell_type": "code",
   "execution_count": 14,
   "metadata": {},
   "outputs": [],
   "source": [
    "# r=novel_helper.get_similar_word('fuck')\n",
    "# r"
   ]
  },
  {
   "cell_type": "markdown",
   "metadata": {},
   "source": [
    "检查词向量效果-类比词"
   ]
  },
  {
   "cell_type": "code",
   "execution_count": 19,
   "metadata": {
    "scrolled": true
   },
   "outputs": [],
   "source": [
    "# r=novel_helper.get_analogy_word('father', 'fuck', 'mother')\n",
    "# r"
   ]
  },
  {
   "cell_type": "markdown",
   "metadata": {},
   "source": [
    "查看所有的keyword、category和rating"
   ]
  },
  {
   "cell_type": "code",
   "execution_count": 76,
   "metadata": {
    "scrolled": false
   },
   "outputs": [],
   "source": [
    "# keyword_bid_set_map, category_bid_set_map = collections.defaultdict(set), collections.defaultdict(set)\n",
    "# rating_bid_set_map = collections.defaultdict(set)\n",
    "# for book in book_warehouse.book:\n",
    "#     for keyword in book.keyword:\n",
    "#         keyword_bid_set_map[keyword.lower()].add(book.bid)\n",
    "#     for category in book.category:\n",
    "#         category_bid_set_map[category.lower()].add(book.bid)\n",
    "#     rating_bid_set_map[book.rating].add(book.bid)\n",
    "# category_book_count_map = {k.lower():len(category_bid_set_map[k]) for k in category_bid_set_map}\n",
    "# keyword_book_count_map = {k.lower():len(keyword_bid_set_map[k]) for k in keyword_bid_set_map}\n",
    "# rating_book_count_map = {k.lower():len(rating_bid_set_map[k]) for k in rating_bid_set_map}\n",
    "# category_data = list(map(lambda x: {'category': x[0].lower(), 'c_book_count': x[1]}, category_book_count_map.items()))\n",
    "# keyword_data = list(map(lambda x: {'keyword': x[0].lower(), 'k_book_count': x[1]}, keyword_book_count_map.items()))\n",
    "# rating_data = list(map(lambda x: {'rating': x[0].lower(), 'r_book_count': x[1]}, rating_book_count_map.items()))\n",
    "# category_data.sort(key=lambda x: x['c_book_count'], reverse=True)\n",
    "# keyword_data.sort(key=lambda x: x['k_book_count'], reverse=True)\n",
    "# rating_data.sort(key=lambda x: x['r_book_count'], reverse=True)\n",
    "# df_category = pd.DataFrame(category_data)\n",
    "# df_keyword = pd.DataFrame(keyword_data)\n",
    "# df_rating = pd.DataFrame(rating_data)\n",
    "# pd.set_option('display.max_rows', 500) # 打印最大行数\n",
    "# df_category\n",
    "# # df_rating\n",
    "# # df_keyword"
   ]
  },
  {
   "cell_type": "markdown",
   "metadata": {},
   "source": [
    "将带有某些特征的book以人类可读的方式dump到library里"
   ]
  },
  {
   "cell_type": "code",
   "execution_count": 80,
   "metadata": {},
   "outputs": [],
   "source": [
    "# bids = list(category_bid_set_map['crime punishment'])\n",
    "# for book in book_warehouse.book:\n",
    "#     if book.bid in bids:\n",
    "#         novel_helper.dump_book_to_library(book)"
   ]
  },
  {
   "cell_type": "markdown",
   "metadata": {},
   "source": [
    "EnlighterHelper，用于生成并enlighten（启蒙）机器人用户大军"
   ]
  },
  {
   "cell_type": "code",
   "execution_count": 7,
   "metadata": {},
   "outputs": [],
   "source": [
    "enlighten_helper = EnlightenHelper(robot_army = None, novel_helper=novel_helper)"
   ]
  },
  {
   "cell_type": "markdown",
   "metadata": {},
   "source": [
    "开始生产RobotUser"
   ]
  },
  {
   "cell_type": "code",
   "execution_count": 8,
   "metadata": {},
   "outputs": [],
   "source": [
    "# enlighten_helper.enlighten_and_dump()"
   ]
  },
  {
   "cell_type": "markdown",
   "metadata": {},
   "source": [
    "加载训练好的RobotArmy"
   ]
  },
  {
   "cell_type": "code",
   "execution_count": 39,
   "metadata": {},
   "outputs": [],
   "source": [
    "# robot_army = EnlightenHelper.load_robot_army()"
   ]
  },
  {
   "cell_type": "markdown",
   "metadata": {},
   "source": [
    "检查机器人军团整体情况"
   ]
  },
  {
   "cell_type": "code",
   "execution_count": 18,
   "metadata": {},
   "outputs": [
    {
     "name": "stdout",
     "output_type": "stream",
     "text": [
      "regiment_count: 10,robot_count: 10000\n"
     ]
    }
   ],
   "source": [
    "# enlighten_helper.report_robot_army(robot_army)"
   ]
  },
  {
   "cell_type": "markdown",
   "metadata": {},
   "source": [
    "检查robot信息（机器人秘书）"
   ]
  },
  {
   "cell_type": "code",
   "execution_count": 85,
   "metadata": {},
   "outputs": [],
   "source": [
    "# robot_army_secret = robot_army.regiment[0].robot[6]\n",
    "# enlighten_helper.get_robot_repr(robot_army_secret)"
   ]
  },
  {
   "cell_type": "markdown",
   "metadata": {},
   "source": [
    "初始化一个ActionMachine"
   ]
  },
  {
   "cell_type": "code",
   "execution_count": 180,
   "metadata": {},
   "outputs": [],
   "source": [
    "action_machine = ActionMachine(novel_helper=novel_helper, robot_army=robot_army)"
   ]
  },
  {
   "cell_type": "markdown",
   "metadata": {},
   "source": [
    "测试`_get_click_drive_score`,`_get_read_drive_score`、`_get_detest_drive_score`"
   ]
  },
  {
   "cell_type": "code",
   "execution_count": 179,
   "metadata": {},
   "outputs": [
    {
     "name": "stdout",
     "output_type": "stream",
     "text": [
      "0.06187081848340892 0.02144914949985688 0.01875598491960219 -0.01981412640888699 0.040873518941113046\n"
     ]
    }
   ],
   "source": [
    "# book_x = book_warehouse.book[0]\n",
    "# robot_user_x = robot_army.regiment[0].robot[0]\n",
    "# chapter = 3\n",
    "# click_drive_score = action_machine._get_click_drive_score(robot_user_x, book_x, sample_loop=2)\n",
    "# read_drive_score = action_machine._get_read_drive_score(robot_user_x, book_x, chapter, sample_loop=2)\n",
    "# detest_title_drive_score = action_machine._get_title_detest_drive_score(robot_user_x, book_x, sample_loop=2)\n",
    "# detest_drive_score = action_machine._get_detest_drive_score(robot_user_x, book_x, chapter, sample_loop=2)\n",
    "# addict_drive_score = action_machine._get_addict_drive_score(robot_user_x, book_x, chapter, sample_loop=2)\n",
    "\n",
    "# print(click_drive_score, read_drive_score, detest_title_drive_score, detest_drive_score, addict_drive_score)"
   ]
  },
  {
   "cell_type": "markdown",
   "metadata": {},
   "source": [
    "运行30个period"
   ]
  },
  {
   "cell_type": "code",
   "execution_count": 234,
   "metadata": {
    "scrolled": true
   },
   "outputs": [
    {
     "name": "stderr",
     "output_type": "stream",
     "text": [
      "ERROR:root:period: 1,offline: 9878,recommend: 122,choosing: 0,click_drive: 0,read_drive: 0,reading: 0\n",
      "ERROR:root:period: 2,offline: 9869,recommend: 9,choosing: 122,click_drive: 0,read_drive: 0,reading: 0\n",
      "ERROR:root:period: 3,offline: 9845,recommend: 24,choosing: 131,click_drive: 0,read_drive: 0,reading: 0\n",
      "ERROR:root:period: 4,offline: 9814,recommend: 31,choosing: 155,click_drive: 0,read_drive: 0,reading: 0\n",
      "ERROR:root:period: 5,offline: 9775,recommend: 39,choosing: 64,click_drive: 122,read_drive: 0,reading: 0\n",
      "ERROR:root:period: 6,offline: 9727,recommend: 54,choosing: 94,click_drive: 9,read_drive: 116,reading: 0\n",
      "ERROR:root:period: 7,offline: 9671,recommend: 56,choosing: 124,click_drive: 24,read_drive: 9,reading: 116\n",
      "ERROR:root:period: 8,offline: 9599,recommend: 73,choosing: 149,click_drive: 31,read_drive: 23,reading: 125\n",
      "ERROR:root:period: 9,offline: 9519,recommend: 81,choosing: 183,click_drive: 39,read_drive: 30,reading: 148\n",
      "ERROR:root:period: 10,offline: 9449,recommend: 71,choosing: 210,click_drive: 54,read_drive: 38,reading: 178\n",
      "ERROR:root:period: 11,offline: 9352,recommend: 100,choosing: 225,click_drive: 56,read_drive: 167,reading: 100\n",
      "ERROR:root:period: 12,offline: 9272,recommend: 83,choosing: 277,click_drive: 73,read_drive: 62,reading: 233\n",
      "ERROR:root:period: 13,offline: 9166,recommend: 108,choosing: 258,click_drive: 106,read_drive: 94,reading: 268\n",
      "ERROR:root:period: 14,offline: 9074,recommend: 96,choosing: 294,click_drive: 75,read_drive: 132,reading: 329\n",
      "ERROR:root:period: 15,offline: 8980,recommend: 96,choosing: 291,click_drive: 103,read_drive: 111,reading: 419\n",
      "ERROR:root:period: 16,offline: 8909,recommend: 74,choosing: 307,click_drive: 87,read_drive: 242,reading: 381\n",
      "ERROR:root:period: 17,offline: 8814,recommend: 97,choosing: 282,click_drive: 115,read_drive: 143,reading: 549\n",
      "ERROR:root:period: 18,offline: 8708,recommend: 109,choosing: 277,click_drive: 112,read_drive: 203,reading: 591\n",
      "ERROR:root:period: 19,offline: 8607,recommend: 106,choosing: 296,click_drive: 106,read_drive: 235,reading: 650\n",
      "ERROR:root:period: 20,offline: 8508,recommend: 99,choosing: 334,click_drive: 90,read_drive: 210,reading: 759\n",
      "ERROR:root:period: 21,offline: 8405,recommend: 105,choosing: 333,click_drive: 119,read_drive: 314,reading: 724\n",
      "ERROR:root:period: 22,offline: 8300,recommend: 106,choosing: 342,click_drive: 128,read_drive: 251,reading: 873\n",
      "ERROR:root:period: 23,offline: 8194,recommend: 112,choosing: 329,click_drive: 138,read_drive: 309,reading: 918\n",
      "ERROR:root:period: 24,offline: 8096,recommend: 100,choosing: 347,click_drive: 118,read_drive: 349,reading: 990\n",
      "ERROR:root:period: 25,offline: 8005,recommend: 95,choosing: 354,click_drive: 129,read_drive: 305,reading: 1112\n",
      "ERROR:root:period: 26,offline: 7915,recommend: 98,choosing: 335,click_drive: 142,read_drive: 403,reading: 1107\n",
      "ERROR:root:period: 27,offline: 7834,recommend: 88,choosing: 325,click_drive: 140,read_drive: 367,reading: 1246\n",
      "ERROR:root:period: 28,offline: 7734,recommend: 103,choosing: 312,click_drive: 132,read_drive: 422,reading: 1297\n",
      "ERROR:root:period: 29,offline: 7643,recommend: 95,choosing: 330,click_drive: 126,read_drive: 441,reading: 1365\n",
      "ERROR:root:period: 30,offline: 7531,recommend: 116,choosing: 329,click_drive: 139,read_drive: 399,reading: 1486\n"
     ]
    }
   ],
   "source": [
    "action_machine = ActionMachine(novel_helper=novel_helper, robot_army=robot_army)\n",
    "action_machine.run(30)"
   ]
  },
  {
   "cell_type": "markdown",
   "metadata": {},
   "source": [
    "统计点击率"
   ]
  },
  {
   "cell_type": "code",
   "execution_count": 235,
   "metadata": {},
   "outputs": [
    {
     "data": {
      "text/plain": [
       "[(0.11429336188436831, 18680)]"
      ]
     },
     "execution_count": 235,
     "metadata": {},
     "output_type": "execute_result"
    }
   ],
   "source": [
    "ctr_sql = \"\"\"select 1.0 * sum(case when t2.uid is not null then 1 else 0 end)/sum(1) as ctr, sum(1) as impr_cnt from\n",
    "(select uid, bid from novel_event where event = 'impression') t1 left join\n",
    "(select uid, bid from novel_event where event = 'go_detail') t2 on t1.uid = t2.uid and t1.bid = t2.bid\n",
    "\"\"\"\n",
    "read_count_per_book_sql = \"\"\"\n",
    "select bid, count(*) as read_cnt from novel_event where event = 'go_detail' \n",
    "group by bid order by read_cnt desc limit 1000\n",
    "\"\"\"\n",
    "how_many_book_sql = \"\"\"\n",
    "select count(distinct bid) from novel_event\n",
    "\"\"\"\n",
    "action_machine.query(ctr_sql, reprepare=False)"
   ]
  },
  {
   "cell_type": "code",
   "execution_count": 137,
   "metadata": {},
   "outputs": [
    {
     "data": {
      "text/plain": [
       "start_period=1, chapter_start=2, chapter_count=1"
      ]
     },
     "execution_count": 137,
     "metadata": {},
     "output_type": "execute_result"
    }
   ],
   "source": [
    "from action_machine import UbInfo\n",
    "ubi = UbInfo(1,2)\n",
    "score = 0.21\n",
    "ubi.next_chapter(score)\n",
    "ubi"
   ]
  },
  {
   "cell_type": "code",
   "execution_count": null,
   "metadata": {},
   "outputs": [],
   "source": []
  }
 ],
 "metadata": {
  "kernelspec": {
   "display_name": "Python 3",
   "language": "python",
   "name": "python3"
  },
  "language_info": {
   "codemirror_mode": {
    "name": "ipython",
    "version": 3
   },
   "file_extension": ".py",
   "mimetype": "text/x-python",
   "name": "python",
   "nbconvert_exporter": "python",
   "pygments_lexer": "ipython3",
   "version": "3.6.3"
  },
  "toc": {
   "base_numbering": 1,
   "nav_menu": {},
   "number_sections": true,
   "sideBar": true,
   "skip_h1_title": false,
   "title_cell": "Table of Contents",
   "title_sidebar": "Contents",
   "toc_cell": false,
   "toc_position": {},
   "toc_section_display": true,
   "toc_window_display": false
  }
 },
 "nbformat": 4,
 "nbformat_minor": 4
}
