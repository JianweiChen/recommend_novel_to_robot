{
 "cells": [
  {
   "cell_type": "code",
   "execution_count": 1,
   "metadata": {},
   "outputs": [],
   "source": [
    "%load_ext autoreload\n",
    "%autoreload 2"
   ]
  },
  {
   "cell_type": "markdown",
   "metadata": {},
   "source": [
    "这个notebook包括所有执行代码，主要逻辑则包括再action_machine.py, event_manager.py, novel_helper.py等几个python文件里"
   ]
  },
  {
   "cell_type": "code",
   "execution_count": 2,
   "metadata": {},
   "outputs": [],
   "source": [
    "import os\n",
    "import sys\n",
    "import random\n",
    "import math\n",
    "import collections\n",
    "import logging\n",
    "import pandas as pd\n",
    "import numpy as np\n",
    "\n",
    "from proto.book_def_pb2 import Book as BookDef\n",
    "from proto.book_def_pb2 import BookWarehouse\n",
    "from proto.user_def_pb2 import Robot as RobotDef\n",
    "from proto.user_def_pb2 import RobotRegiment\n",
    "from proto.user_def_pb2 import RobotArmy\n",
    "\n",
    "from novel_helper import NovelHelper\n",
    "from novel_helper import BookWarehouseDumper\n",
    "from novel_helper import S\n",
    "\n",
    "from enlighten_helper import EnlightenHelper\n",
    "\n",
    "from action_machine import ActionMachine\n",
    "from event_manager import EventManager"
   ]
  },
  {
   "cell_type": "markdown",
   "metadata": {},
   "source": [
    "BookWarehouseDumper用于将爬虫抓的语料生成book_def.proto中的格式"
   ]
  },
  {
   "cell_type": "code",
   "execution_count": 3,
   "metadata": {},
   "outputs": [],
   "source": [
    "# book_warehouse_dumper = BookWarehouseDumper()"
   ]
  },
  {
   "cell_type": "markdown",
   "metadata": {},
   "source": [
    "从fictiontg网站上抓下来的有3万余篇，book_meta_10t.csv文件存储着其中1万篇小说，这样可以保证候选的稳定性。如果确有需要，可以通过以下方式重新生成这个csv文件。注意这个是双下划线的方法，这是为了防止误操作。这样的好处是之后可以用另外的1万本小说来测试系统的效果，看一些现象是否还能复现。"
   ]
  },
  {
   "cell_type": "code",
   "execution_count": 4,
   "metadata": {},
   "outputs": [],
   "source": [
    "# book_warehouse_dumper.__gen_10t_csv()"
   ]
  },
  {
   "cell_type": "markdown",
   "metadata": {},
   "source": [
    "生成book_warehouse，这个过程包括切句切词，1万篇小说要用20分钟以上。结果存储在book_warehouse_1t.bin和book_warehouse_10t.bin两个二进制文件中"
   ]
  },
  {
   "cell_type": "code",
   "execution_count": 5,
   "metadata": {},
   "outputs": [],
   "source": [
    "# book_warehouse_dumper.dump_book_warehouse()"
   ]
  },
  {
   "cell_type": "markdown",
   "metadata": {},
   "source": [
    "从.bin文件加载BookWarehouse进内存，默认是1千篇，可以通过参数改成1万篇"
   ]
  },
  {
   "cell_type": "code",
   "execution_count": 6,
   "metadata": {},
   "outputs": [],
   "source": [
    "book_warehouse_type = '1t'\n",
    "book_warehouse = NovelHelper.load_book_warehouse(book_warehouse_type)"
   ]
  },
  {
   "cell_type": "markdown",
   "metadata": {},
   "source": [
    "生成meta.pkl"
   ]
  },
  {
   "cell_type": "code",
   "execution_count": 24,
   "metadata": {},
   "outputs": [
    {
     "name": "stdout",
     "output_type": "stream",
     "text": [
      " 1000"
     ]
    }
   ],
   "source": [
    "# from novel_helper import MetaManager\n",
    "# meta_manager = MetaManager(book_warehouse)\n",
    "# meta_manager.dump_meta()"
   ]
  },
  {
   "cell_type": "markdown",
   "metadata": {},
   "source": [
    "验证meta.pkl"
   ]
  },
  {
   "cell_type": "code",
   "execution_count": 26,
   "metadata": {},
   "outputs": [],
   "source": [
    "# meta_manager = MetaManager()\n",
    "# k, c, t = meta_manager.load_meta()\n",
    "# len(t)\n",
    "# len(c)\n",
    "# len(t)\n",
    "# list(c.keys())"
   ]
  },
  {
   "cell_type": "markdown",
   "metadata": {},
   "source": [
    "生成NovelHelper，用于辅助统计与词向量训练，需要传入book_warehouse。会同时load之前存好的word_book_count_map和词向量数据"
   ]
  },
  {
   "cell_type": "code",
   "execution_count": 35,
   "metadata": {},
   "outputs": [],
   "source": [
    "novel_helper = NovelHelper(book_warehouse=book_warehouse)"
   ]
  },
  {
   "cell_type": "markdown",
   "metadata": {},
   "source": [
    "一次性的fetch所有较高频单词的汉语翻译"
   ]
  },
  {
   "cell_type": "code",
   "execution_count": 37,
   "metadata": {},
   "outputs": [
    {
     "name": "stdout",
     "output_type": "stream",
     "text": [
      " 2 thirteen 十三                     list index out of range\n",
      "list index out of range\n",
      " 2904 murmurs 杂音                                list index out of range\n",
      " 7920 tern 燕鸥                                      list index out of range\n",
      " 9594 eventuality 可能性                            "
     ]
    }
   ],
   "source": [
    "# novel_helper._fetch_cn_online()"
   ]
  },
  {
   "cell_type": "markdown",
   "metadata": {},
   "source": [
    "统计每个单词在多少篇小说里出现了，结果存到word_book_count.csv中"
   ]
  },
  {
   "cell_type": "code",
   "execution_count": null,
   "metadata": {},
   "outputs": [],
   "source": [
    "# novel_helper.dump_word_book_count_csv()"
   ]
  },
  {
   "cell_type": "markdown",
   "metadata": {},
   "source": [
    "训练词向量（如有需要），会先生成训练语料到wv_corpus.txt，进而训练词向量文件到wv.bin，大约用10分钟"
   ]
  },
  {
   "cell_type": "code",
   "execution_count": null,
   "metadata": {},
   "outputs": [],
   "source": [
    "# novel_helper.train_and_dump_wv_bin()"
   ]
  },
  {
   "cell_type": "markdown",
   "metadata": {},
   "source": [
    "检查词向量效果-相似词"
   ]
  },
  {
   "cell_type": "code",
   "execution_count": 14,
   "metadata": {},
   "outputs": [],
   "source": [
    "# r=novel_helper.get_similar_word('fuck')\n",
    "# r"
   ]
  },
  {
   "cell_type": "markdown",
   "metadata": {},
   "source": [
    "检查词向量效果-类比词"
   ]
  },
  {
   "cell_type": "code",
   "execution_count": 19,
   "metadata": {
    "scrolled": true
   },
   "outputs": [],
   "source": [
    "# r=novel_helper.get_analogy_word('father', 'fuck', 'mother')\n",
    "# r"
   ]
  },
  {
   "cell_type": "markdown",
   "metadata": {},
   "source": [
    "查看所有的keyword、category和rating"
   ]
  },
  {
   "cell_type": "code",
   "execution_count": 76,
   "metadata": {
    "scrolled": false
   },
   "outputs": [],
   "source": [
    "# keyword_bid_set_map, category_bid_set_map = collections.defaultdict(set), collections.defaultdict(set)\n",
    "# rating_bid_set_map = collections.defaultdict(set)\n",
    "# for book in book_warehouse.book:\n",
    "#     for keyword in book.keyword:\n",
    "#         keyword_bid_set_map[keyword.lower()].add(book.bid)\n",
    "#     for category in book.category:\n",
    "#         category_bid_set_map[category.lower()].add(book.bid)\n",
    "#     rating_bid_set_map[book.rating].add(book.bid)\n",
    "# category_book_count_map = {k.lower():len(category_bid_set_map[k]) for k in category_bid_set_map}\n",
    "# keyword_book_count_map = {k.lower():len(keyword_bid_set_map[k]) for k in keyword_bid_set_map}\n",
    "# rating_book_count_map = {k.lower():len(rating_bid_set_map[k]) for k in rating_bid_set_map}\n",
    "# category_data = list(map(lambda x: {'category': x[0].lower(), 'c_book_count': x[1]}, category_book_count_map.items()))\n",
    "# keyword_data = list(map(lambda x: {'keyword': x[0].lower(), 'k_book_count': x[1]}, keyword_book_count_map.items()))\n",
    "# rating_data = list(map(lambda x: {'rating': x[0].lower(), 'r_book_count': x[1]}, rating_book_count_map.items()))\n",
    "# category_data.sort(key=lambda x: x['c_book_count'], reverse=True)\n",
    "# keyword_data.sort(key=lambda x: x['k_book_count'], reverse=True)\n",
    "# rating_data.sort(key=lambda x: x['r_book_count'], reverse=True)\n",
    "# df_category = pd.DataFrame(category_data)\n",
    "# df_keyword = pd.DataFrame(keyword_data)\n",
    "# df_rating = pd.DataFrame(rating_data)\n",
    "# pd.set_option('display.max_rows', 500) # 打印最大行数\n",
    "# df_category\n",
    "# # df_rating\n",
    "# # df_keyword"
   ]
  },
  {
   "cell_type": "markdown",
   "metadata": {},
   "source": [
    "将带有某些特征的book以人类可读的方式dump到library里"
   ]
  },
  {
   "cell_type": "code",
   "execution_count": 80,
   "metadata": {},
   "outputs": [],
   "source": [
    "# bids = list(category_bid_set_map['crime punishment'])\n",
    "# for book in book_warehouse.book:\n",
    "#     if book.bid in bids:\n",
    "#         novel_helper.dump_book_to_library(book)"
   ]
  },
  {
   "cell_type": "markdown",
   "metadata": {},
   "source": [
    "EnlighterHelper，用于生成并enlighten（启蒙）机器人用户大军"
   ]
  },
  {
   "cell_type": "code",
   "execution_count": 7,
   "metadata": {},
   "outputs": [],
   "source": [
    "enlighten_helper = EnlightenHelper(robot_army = None, novel_helper=novel_helper)"
   ]
  },
  {
   "cell_type": "markdown",
   "metadata": {},
   "source": [
    "开始生产RobotUser"
   ]
  },
  {
   "cell_type": "code",
   "execution_count": 8,
   "metadata": {},
   "outputs": [],
   "source": [
    "# enlighten_helper.enlighten_and_dump()"
   ]
  },
  {
   "cell_type": "markdown",
   "metadata": {},
   "source": [
    "加载训练好的RobotArmy"
   ]
  },
  {
   "cell_type": "code",
   "execution_count": 39,
   "metadata": {},
   "outputs": [],
   "source": [
    "# robot_army = EnlightenHelper.load_robot_army()"
   ]
  },
  {
   "cell_type": "markdown",
   "metadata": {},
   "source": [
    "检查机器人军团整体情况"
   ]
  },
  {
   "cell_type": "code",
   "execution_count": 18,
   "metadata": {},
   "outputs": [
    {
     "name": "stdout",
     "output_type": "stream",
     "text": [
      "regiment_count: 10,robot_count: 10000\n"
     ]
    }
   ],
   "source": [
    "# enlighten_helper.report_robot_army(robot_army)"
   ]
  },
  {
   "cell_type": "markdown",
   "metadata": {},
   "source": [
    "检查robot信息（机器人秘书）"
   ]
  },
  {
   "cell_type": "code",
   "execution_count": 85,
   "metadata": {},
   "outputs": [],
   "source": [
    "# robot_army_secret = robot_army.regiment[0].robot[6]\n",
    "# enlighten_helper.get_robot_repr(robot_army_secret)"
   ]
  },
  {
   "cell_type": "markdown",
   "metadata": {},
   "source": [
    "初始化一个ActionMachine"
   ]
  },
  {
   "cell_type": "code",
   "execution_count": 180,
   "metadata": {},
   "outputs": [],
   "source": [
    "action_machine = ActionMachine(novel_helper=novel_helper, robot_army=robot_army)"
   ]
  },
  {
   "cell_type": "markdown",
   "metadata": {},
   "source": [
    "测试`_get_click_drive_score`,`_get_read_drive_score`、`_get_detest_drive_score`"
   ]
  },
  {
   "cell_type": "code",
   "execution_count": 179,
   "metadata": {},
   "outputs": [
    {
     "name": "stdout",
     "output_type": "stream",
     "text": [
      "0.06187081848340892 0.02144914949985688 0.01875598491960219 -0.01981412640888699 0.040873518941113046\n"
     ]
    }
   ],
   "source": [
    "# book_x = book_warehouse.book[0]\n",
    "# robot_user_x = robot_army.regiment[0].robot[0]\n",
    "# chapter = 3\n",
    "# click_drive_score = action_machine._get_click_drive_score(robot_user_x, book_x, sample_loop=2)\n",
    "# read_drive_score = action_machine._get_read_drive_score(robot_user_x, book_x, chapter, sample_loop=2)\n",
    "# detest_title_drive_score = action_machine._get_title_detest_drive_score(robot_user_x, book_x, sample_loop=2)\n",
    "# detest_drive_score = action_machine._get_detest_drive_score(robot_user_x, book_x, chapter, sample_loop=2)\n",
    "# addict_drive_score = action_machine._get_addict_drive_score(robot_user_x, book_x, chapter, sample_loop=2)\n",
    "\n",
    "# print(click_drive_score, read_drive_score, detest_title_drive_score, detest_drive_score, addict_drive_score)"
   ]
  },
  {
   "cell_type": "markdown",
   "metadata": {},
   "source": [
    "运行30个period"
   ]
  },
  {
   "cell_type": "code",
   "execution_count": 231,
   "metadata": {
    "scrolled": true
   },
   "outputs": [
    {
     "name": "stderr",
     "output_type": "stream",
     "text": [
      "ERROR:root:period: 1,offline: 9898,recommend: 102,choosing: 0,click_drive: 0,read_drive: 0,reading: 0\n",
      "ERROR:root:period: 2,offline: 9884,recommend: 14,choosing: 102,click_drive: 0,read_drive: 0,reading: 0\n",
      "ERROR:root:period: 3,offline: 9851,recommend: 33,choosing: 116,click_drive: 0,read_drive: 0,reading: 0\n",
      "ERROR:root:period: 4,offline: 9819,recommend: 32,choosing: 149,click_drive: 0,read_drive: 0,reading: 0\n",
      "ERROR:root:period: 5,offline: 9787,recommend: 32,choosing: 79,click_drive: 102,read_drive: 0,reading: 0\n",
      "ERROR:root:period: 6,offline: 9731,recommend: 58,choosing: 97,click_drive: 14,read_drive: 100,reading: 0\n",
      "ERROR:root:period: 7,offline: 9671,recommend: 60,choosing: 122,click_drive: 33,read_drive: 14,reading: 100\n",
      "ERROR:root:period: 8,offline: 9601,recommend: 71,choosing: 150,click_drive: 32,read_drive: 32,reading: 114\n",
      "ERROR:root:period: 9,offline: 9521,recommend: 81,choosing: 189,click_drive: 32,read_drive: 31,reading: 146\n",
      "ERROR:root:period: 10,offline: 9447,recommend: 76,choosing: 212,click_drive: 58,read_drive: 30,reading: 177\n",
      "ERROR:root:period: 11,offline: 9368,recommend: 81,choosing: 228,click_drive: 60,read_drive: 156,reading: 107\n",
      "ERROR:root:period: 12,offline: 9277,recommend: 92,choosing: 258,click_drive: 71,read_drive: 73,reading: 229\n",
      "ERROR:root:period: 13,offline: 9185,recommend: 93,choosing: 251,click_drive: 101,read_drive: 102,reading: 268\n",
      "ERROR:root:period: 14,offline: 9103,recommend: 84,choosing: 272,click_drive: 78,read_drive: 130,reading: 333\n",
      "ERROR:root:period: 15,offline: 9025,recommend: 82,choosing: 273,click_drive: 87,read_drive: 104,reading: 429\n",
      "ERROR:root:period: 16,offline: 8924,recommend: 105,choosing: 264,click_drive: 96,read_drive: 219,reading: 392\n",
      "ERROR:root:period: 17,offline: 8832,recommend: 94,choosing: 283,click_drive: 98,read_drive: 165,reading: 528\n",
      "ERROR:root:period: 18,offline: 8733,recommend: 100,choosing: 294,click_drive: 96,read_drive: 193,reading: 584\n",
      "ERROR:root:period: 19,offline: 8632,recommend: 107,choosing: 309,click_drive: 95,read_drive: 216,reading: 641\n",
      "ERROR:root:period: 20,offline: 8515,recommend: 119,choosing: 320,click_drive: 115,read_drive: 192,reading: 739\n",
      "ERROR:root:period: 21,offline: 8414,recommend: 104,choosing: 344,click_drive: 113,read_drive: 319,reading: 706\n",
      "ERROR:root:period: 22,offline: 8329,recommend: 91,choosing: 354,click_drive: 118,read_drive: 259,reading: 849\n",
      "ERROR:root:period: 23,offline: 8225,recommend: 106,choosing: 335,click_drive: 131,read_drive: 299,reading: 904\n",
      "ERROR:root:period: 24,offline: 8142,recommend: 87,choosing: 318,click_drive: 140,read_drive: 324,reading: 989\n",
      "ERROR:root:period: 25,offline: 8055,recommend: 91,choosing: 314,click_drive: 121,read_drive: 310,reading: 1109\n",
      "ERROR:root:period: 26,offline: 7944,recommend: 112,choosing: 306,click_drive: 121,read_drive: 415,reading: 1102\n",
      "ERROR:root:period: 27,offline: 7852,recommend: 96,choosing: 316,click_drive: 128,read_drive: 355,reading: 1253\n",
      "ERROR:root:period: 28,offline: 7748,recommend: 107,choosing: 334,click_drive: 113,read_drive: 407,reading: 1291\n",
      "ERROR:root:period: 29,offline: 7671,recommend: 81,choosing: 360,click_drive: 126,read_drive: 403,reading: 1359\n",
      "ERROR:root:period: 30,offline: 7589,recommend: 89,choosing: 320,click_drive: 157,read_drive: 407,reading: 1438\n",
      "ERROR:root:period: 31,offline: 7507,recommend: 88,choosing: 318,click_drive: 132,read_drive: 540,reading: 1415\n",
      "ERROR:root:period: 32,offline: 7403,recommend: 109,choosing: 297,click_drive: 148,read_drive: 447,reading: 1596\n",
      "ERROR:root:period: 33,offline: 7313,recommend: 94,choosing: 330,click_drive: 120,read_drive: 506,reading: 1637\n",
      "ERROR:root:period: 34,offline: 7208,recommend: 107,choosing: 332,click_drive: 133,read_drive: 485,reading: 1735\n",
      "ERROR:root:period: 35,offline: 7116,recommend: 93,choosing: 354,click_drive: 129,read_drive: 498,reading: 1810\n",
      "ERROR:root:period: 36,offline: 7018,recommend: 103,choosing: 337,click_drive: 153,read_drive: 625,reading: 1764\n",
      "ERROR:root:period: 37,offline: 6921,recommend: 101,choosing: 355,click_drive: 137,read_drive: 552,reading: 1934\n",
      "ERROR:root:period: 38,offline: 6820,recommend: 105,choosing: 358,click_drive: 159,read_drive: 598,reading: 1960\n",
      "ERROR:root:period: 39,offline: 6726,recommend: 97,choosing: 360,click_drive: 154,read_drive: 597,reading: 2066\n",
      "ERROR:root:period: 40,offline: 6619,recommend: 109,choosing: 360,click_drive: 154,read_drive: 607,reading: 2151\n",
      "ERROR:root:period: 41,offline: 6522,recommend: 102,choosing: 374,click_drive: 158,read_drive: 722,reading: 2122\n",
      "ERROR:root:period: 42,offline: 6426,recommend: 100,choosing: 380,click_drive: 168,read_drive: 645,reading: 2281\n",
      "ERROR:root:period: 43,offline: 6342,recommend: 85,choosing: 368,click_drive: 169,read_drive: 714,reading: 2322\n",
      "ERROR:root:period: 44,offline: 6232,recommend: 114,choosing: 361,click_drive: 166,read_drive: 705,reading: 2422\n",
      "ERROR:root:period: 45,offline: 6119,recommend: 116,choosing: 362,click_drive: 176,read_drive: 707,reading: 2520\n",
      "ERROR:root:period: 46,offline: 6020,recommend: 101,choosing: 381,click_drive: 163,read_drive: 824,reading: 2511\n",
      "ERROR:root:period: 47,offline: 5925,recommend: 100,choosing: 418,click_drive: 151,read_drive: 746,reading: 2660\n",
      "ERROR:root:period: 48,offline: 5824,recommend: 101,choosing: 395,click_drive: 201,read_drive: 791,reading: 2688\n",
      "ERROR:root:period: 49,offline: 5724,recommend: 102,choosing: 372,click_drive: 194,read_drive: 841,reading: 2767\n",
      "ERROR:root:period: 50,offline: 5642,recommend: 89,choosing: 385,click_drive: 171,read_drive: 828,reading: 2885\n",
      "ERROR:root:period: 51,offline: 5525,recommend: 123,choosing: 387,click_drive: 182,read_drive: 902,reading: 2881\n",
      "ERROR:root:period: 52,offline: 5427,recommend: 99,choosing: 398,click_drive: 196,read_drive: 849,reading: 3031\n",
      "ERROR:root:period: 53,offline: 5323,recommend: 107,choosing: 402,click_drive: 186,read_drive: 914,reading: 3068\n",
      "ERROR:root:period: 54,offline: 5223,recommend: 102,choosing: 422,click_drive: 180,read_drive: 943,reading: 3130\n",
      "ERROR:root:period: 55,offline: 5123,recommend: 104,choosing: 393,click_drive: 216,read_drive: 909,reading: 3255\n",
      "ERROR:root:period: 56,offline: 5028,recommend: 97,choosing: 406,click_drive: 184,read_drive: 1032,reading: 3253\n",
      "ERROR:root:period: 57,offline: 4944,recommend: 86,choosing: 411,click_drive: 200,read_drive: 940,reading: 3419\n",
      "ERROR:root:period: 58,offline: 4831,recommend: 118,choosing: 385,click_drive: 210,read_drive: 1016,reading: 3440\n",
      "ERROR:root:period: 59,offline: 4730,recommend: 105,choosing: 415,click_drive: 202,read_drive: 1064,reading: 3484\n",
      "ERROR:root:period: 60,offline: 4638,recommend: 96,choosing: 417,click_drive: 211,read_drive: 1014,reading: 3624\n",
      "ERROR:root:period: 61,offline: 4523,recommend: 120,choosing: 420,click_drive: 194,read_drive: 1130,reading: 3613\n",
      "ERROR:root:period: 62,offline: 4434,recommend: 90,choosing: 439,click_drive: 219,read_drive: 1035,reading: 3783\n",
      "ERROR:root:period: 63,offline: 4337,recommend: 108,choosing: 419,click_drive: 223,read_drive: 1110,reading: 3803\n",
      "ERROR:root:period: 64,offline: 4242,recommend: 99,choosing: 423,click_drive: 209,read_drive: 1175,reading: 3852\n",
      "ERROR:root:period: 65,offline: 4128,recommend: 118,choosing: 417,click_drive: 225,read_drive: 1118,reading: 3994\n",
      "ERROR:root:period: 66,offline: 4035,recommend: 97,choosing: 446,click_drive: 210,read_drive: 1233,reading: 3979\n",
      "ERROR:root:period: 67,offline: 3915,recommend: 124,choosing: 440,click_drive: 229,read_drive: 1128,reading: 4164\n",
      "ERROR:root:period: 68,offline: 3828,recommend: 91,choosing: 447,click_drive: 225,read_drive: 1230,reading: 4179\n",
      "ERROR:root:period: 69,offline: 3748,recommend: 87,choosing: 437,click_drive: 226,read_drive: 1273,reading: 4229\n",
      "ERROR:root:period: 70,offline: 3645,recommend: 108,choosing: 451,click_drive: 222,read_drive: 1218,reading: 4356\n",
      "ERROR:root:period: 71,offline: 3555,recommend: 93,choosing: 397,click_drive: 273,read_drive: 1326,reading: 4356\n",
      "ERROR:root:period: 72,offline: 3448,recommend: 112,choosing: 400,click_drive: 202,read_drive: 1288,reading: 4550\n",
      "ERROR:root:period: 73,offline: 3343,recommend: 108,choosing: 422,click_drive: 199,read_drive: 1304,reading: 4624\n",
      "ERROR:root:period: 74,offline: 3241,recommend: 108,choosing: 442,click_drive: 217,read_drive: 1317,reading: 4675\n",
      "ERROR:root:period: 75,offline: 3155,recommend: 90,choosing: 477,click_drive: 222,read_drive: 1320,reading: 4736\n"
     ]
    },
    {
     "name": "stderr",
     "output_type": "stream",
     "text": [
      "ERROR:root:period: 76,offline: 3066,recommend: 94,choosing: 445,click_drive: 261,read_drive: 1431,reading: 4703\n",
      "ERROR:root:period: 77,offline: 2971,recommend: 101,choosing: 431,click_drive: 247,read_drive: 1434,reading: 4816\n",
      "ERROR:root:period: 78,offline: 2867,recommend: 107,choosing: 444,click_drive: 247,read_drive: 1419,reading: 4916\n",
      "ERROR:root:period: 79,offline: 2787,recommend: 85,choosing: 448,click_drive: 249,read_drive: 1410,reading: 5021\n",
      "ERROR:root:period: 80,offline: 2684,recommend: 110,choosing: 425,click_drive: 240,read_drive: 1423,reading: 5118\n",
      "ERROR:root:period: 81,offline: 2584,recommend: 104,choosing: 452,click_drive: 233,read_drive: 1528,reading: 5099\n",
      "ERROR:root:period: 82,offline: 2494,recommend: 95,choosing: 431,click_drive: 257,read_drive: 1503,reading: 5220\n",
      "ERROR:root:period: 83,offline: 2397,recommend: 103,choosing: 487,click_drive: 217,read_drive: 1524,reading: 5272\n",
      "ERROR:root:period: 84,offline: 2296,recommend: 109,choosing: 439,click_drive: 288,read_drive: 1487,reading: 5381\n",
      "ERROR:root:period: 85,offline: 2205,recommend: 101,choosing: 468,click_drive: 241,read_drive: 1551,reading: 5434\n",
      "ERROR:root:period: 86,offline: 2108,recommend: 104,choosing: 477,click_drive: 256,read_drive: 1630,reading: 5425\n",
      "ERROR:root:period: 87,offline: 2028,recommend: 90,choosing: 466,click_drive: 267,read_drive: 1571,reading: 5578\n",
      "ERROR:root:period: 88,offline: 1923,recommend: 111,choosing: 476,click_drive: 261,read_drive: 1648,reading: 5581\n",
      "ERROR:root:period: 89,offline: 1827,recommend: 98,choosing: 464,click_drive: 282,read_drive: 1585,reading: 5744\n",
      "ERROR:root:period: 90,offline: 1715,recommend: 115,choosing: 449,click_drive: 263,read_drive: 1666,reading: 5792\n",
      "ERROR:root:period: 91,offline: 1620,recommend: 101,choosing: 491,click_drive: 240,read_drive: 1735,reading: 5813\n",
      "ERROR:root:period: 92,offline: 1526,recommend: 99,choosing: 482,click_drive: 278,read_drive: 1625,reading: 5990\n",
      "ERROR:root:period: 93,offline: 1447,recommend: 85,choosing: 495,click_drive: 266,read_drive: 1761,reading: 5946\n",
      "ERROR:root:period: 94,offline: 1351,recommend: 104,choosing: 472,click_drive: 295,read_drive: 1693,reading: 6085\n",
      "ERROR:root:period: 95,offline: 1254,recommend: 103,choosing: 467,click_drive: 288,read_drive: 1788,reading: 6100\n",
      "ERROR:root:period: 96,offline: 1166,recommend: 98,choosing: 481,click_drive: 278,read_drive: 1845,reading: 6132\n",
      "ERROR:root:period: 97,offline: 1065,recommend: 107,choosing: 477,click_drive: 274,read_drive: 1717,reading: 6360\n",
      "ERROR:root:period: 98,offline: 989,recommend: 83,choosing: 473,click_drive: 276,read_drive: 1841,reading: 6338\n",
      "ERROR:root:period: 99,offline: 879,recommend: 114,choosing: 462,click_drive: 268,read_drive: 1786,reading: 6491\n",
      "ERROR:root:period: 100,offline: 792,recommend: 93,choosing: 469,click_drive: 272,read_drive: 1861,reading: 6513\n",
      "ERROR:root:period: 101,offline: 691,recommend: 107,choosing: 486,click_drive: 272,read_drive: 1939,reading: 6505\n",
      "ERROR:root:period: 102,offline: 591,recommend: 105,choosing: 516,click_drive: 279,read_drive: 1819,reading: 6690\n",
      "ERROR:root:period: 103,offline: 493,recommend: 100,choosing: 484,click_drive: 316,read_drive: 1944,reading: 6663\n",
      "ERROR:root:period: 104,offline: 421,recommend: 73,choosing: 516,click_drive: 272,read_drive: 1936,reading: 6782\n",
      "ERROR:root:period: 105,offline: 357,recommend: 68,choosing: 469,click_drive: 311,read_drive: 1933,reading: 6862\n",
      "ERROR:root:period: 106,offline: 320,recommend: 45,choosing: 441,click_drive: 296,read_drive: 2040,reading: 6858\n",
      "ERROR:root:period: 107,offline: 293,recommend: 33,choosing: 412,click_drive: 300,read_drive: 1930,reading: 7032\n",
      "ERROR:root:period: 108,offline: 275,recommend: 24,choosing: 357,click_drive: 299,read_drive: 2034,reading: 7011\n",
      "ERROR:root:period: 109,offline: 273,recommend: 9,choosing: 285,click_drive: 279,read_drive: 2037,reading: 7117\n",
      "ERROR:root:period: 110,offline: 270,recommend: 7,choosing: 288,click_drive: 228,read_drive: 2008,reading: 7199\n",
      "ERROR:root:period: 111,offline: 268,recommend: 5,choosing: 256,click_drive: 255,read_drive: 2039,reading: 7177\n",
      "ERROR:root:period: 112,offline: 269,recommend: 1,choosing: 212,click_drive: 240,read_drive: 1972,reading: 7306\n",
      "ERROR:root:period: 113,offline: 262,recommend: 11,choosing: 224,click_drive: 200,read_drive: 2087,reading: 7216\n",
      "ERROR:root:period: 114,offline: 262,recommend: 4,choosing: 237,click_drive: 218,read_drive: 2011,reading: 7268\n",
      "ERROR:root:period: 115,offline: 261,recommend: 4,choosing: 222,click_drive: 225,read_drive: 2007,reading: 7281\n",
      "ERROR:root:period: 116,offline: 260,recommend: 4,choosing: 221,click_drive: 207,read_drive: 2070,reading: 7238\n",
      "ERROR:root:period: 117,offline: 257,recommend: 4,choosing: 217,click_drive: 213,read_drive: 1967,reading: 7342\n",
      "ERROR:root:period: 118,offline: 259,recommend: 4,choosing: 257,click_drive: 209,read_drive: 2074,reading: 7197\n",
      "ERROR:root:period: 119,offline: 255,recommend: 7,choosing: 216,click_drive: 249,read_drive: 2011,reading: 7262\n",
      "ERROR:root:period: 120,offline: 253,recommend: 5,choosing: 216,click_drive: 208,read_drive: 2051,reading: 7267\n",
      "ERROR:root:period: 121,offline: 252,recommend: 3,choosing: 250,click_drive: 205,read_drive: 2071,reading: 7219\n",
      "ERROR:root:period: 122,offline: 250,recommend: 5,choosing: 224,click_drive: 238,read_drive: 1924,reading: 7359\n",
      "ERROR:root:period: 123,offline: 248,recommend: 3,choosing: 202,click_drive: 216,read_drive: 2107,reading: 7224\n",
      "ERROR:root:period: 124,offline: 247,recommend: 6,choosing: 247,click_drive: 194,read_drive: 2021,reading: 7285\n",
      "ERROR:root:period: 125,offline: 245,recommend: 4,choosing: 208,click_drive: 239,read_drive: 2009,reading: 7295\n",
      "ERROR:root:period: 126,offline: 242,recommend: 5,choosing: 236,click_drive: 199,read_drive: 2099,reading: 7219\n",
      "ERROR:root:period: 127,offline: 238,recommend: 6,choosing: 249,click_drive: 226,read_drive: 1932,reading: 7349\n",
      "ERROR:root:period: 128,offline: 235,recommend: 3,choosing: 203,click_drive: 240,read_drive: 2097,reading: 7222\n",
      "ERROR:root:period: 129,offline: 231,recommend: 5,choosing: 225,click_drive: 192,read_drive: 2066,reading: 7281\n",
      "ERROR:root:period: 130,offline: 227,recommend: 7,choosing: 255,click_drive: 216,read_drive: 1975,reading: 7320\n",
      "ERROR:root:period: 131,offline: 226,recommend: 4,choosing: 225,click_drive: 247,read_drive: 2078,reading: 7220\n",
      "ERROR:root:period: 132,offline: 226,recommend: 5,choosing: 223,click_drive: 213,read_drive: 1986,reading: 7347\n",
      "ERROR:root:period: 133,offline: 222,recommend: 6,choosing: 230,click_drive: 212,read_drive: 2097,reading: 7233\n",
      "ERROR:root:period: 134,offline: 218,recommend: 8,choosing: 248,click_drive: 221,read_drive: 2033,reading: 7272\n",
      "ERROR:root:period: 135,offline: 214,recommend: 10,choosing: 235,click_drive: 237,read_drive: 1980,reading: 7324\n",
      "ERROR:root:period: 136,offline: 209,recommend: 7,choosing: 219,click_drive: 221,read_drive: 2106,reading: 7238\n",
      "ERROR:root:period: 137,offline: 202,recommend: 10,choosing: 231,click_drive: 201,read_drive: 1990,reading: 7366\n",
      "ERROR:root:period: 138,offline: 198,recommend: 6,choosing: 239,click_drive: 214,read_drive: 2063,reading: 7280\n",
      "ERROR:root:period: 139,offline: 200,recommend: 2,choosing: 223,click_drive: 222,read_drive: 2027,reading: 7326\n",
      "ERROR:root:period: 140,offline: 202,recommend: 3,choosing: 230,click_drive: 207,read_drive: 2002,reading: 7356\n",
      "ERROR:root:period: 141,offline: 199,recommend: 6,choosing: 244,click_drive: 222,read_drive: 2104,reading: 7225\n",
      "ERROR:root:period: 142,offline: 199,recommend: 5,choosing: 225,click_drive: 239,read_drive: 1995,reading: 7337\n",
      "ERROR:root:period: 143,offline: 197,recommend: 6,choosing: 226,click_drive: 216,read_drive: 2098,reading: 7257\n",
      "ERROR:root:period: 144,offline: 189,recommend: 8,choosing: 256,click_drive: 215,read_drive: 2031,reading: 7301\n",
      "ERROR:root:period: 145,offline: 184,recommend: 6,choosing: 239,click_drive: 245,read_drive: 1983,reading: 7343\n",
      "ERROR:root:period: 146,offline: 178,recommend: 10,choosing: 230,click_drive: 225,read_drive: 2131,reading: 7226\n",
      "ERROR:root:period: 147,offline: 176,recommend: 6,choosing: 268,click_drive: 216,read_drive: 2004,reading: 7330\n",
      "ERROR:root:period: 148,offline: 173,recommend: 7,choosing: 240,click_drive: 252,read_drive: 2071,reading: 7257\n",
      "ERROR:root:period: 149,offline: 173,recommend: 4,choosing: 216,click_drive: 224,read_drive: 2059,reading: 7324\n"
     ]
    },
    {
     "name": "stderr",
     "output_type": "stream",
     "text": [
      "ERROR:root:period: 150,offline: 168,recommend: 6,choosing: 259,click_drive: 203,read_drive: 1996,reading: 7368\n",
      "ERROR:root:period: 151,offline: 169,recommend: 6,choosing: 229,click_drive: 248,read_drive: 2083,reading: 7265\n",
      "ERROR:root:period: 152,offline: 168,recommend: 5,choosing: 248,click_drive: 219,read_drive: 2030,reading: 7330\n",
      "ERROR:root:period: 153,offline: 170,recommend: 2,choosing: 243,click_drive: 236,read_drive: 2093,reading: 7256\n",
      "ERROR:root:period: 154,offline: 171,recommend: 1,choosing: 245,click_drive: 232,read_drive: 2051,reading: 7300\n",
      "ERROR:root:period: 155,offline: 169,recommend: 4,choosing: 230,click_drive: 238,read_drive: 2014,reading: 7345\n",
      "ERROR:root:period: 156,offline: 164,recommend: 8,choosing: 232,click_drive: 227,read_drive: 2086,reading: 7283\n",
      "ERROR:root:period: 157,offline: 162,recommend: 6,choosing: 232,click_drive: 227,read_drive: 2027,reading: 7346\n",
      "ERROR:root:period: 158,offline: 158,recommend: 6,choosing: 239,click_drive: 220,read_drive: 2086,reading: 7291\n",
      "ERROR:root:period: 159,offline: 152,recommend: 7,choosing: 240,click_drive: 225,read_drive: 2048,reading: 7328\n",
      "ERROR:root:period: 160,offline: 152,recommend: 4,choosing: 226,click_drive: 228,read_drive: 2010,reading: 7380\n",
      "ERROR:root:period: 161,offline: 152,recommend: 3,choosing: 241,click_drive: 213,read_drive: 2092,reading: 7299\n",
      "ERROR:root:period: 162,offline: 155,recommend: 2,choosing: 239,click_drive: 230,read_drive: 2014,reading: 7360\n",
      "ERROR:root:period: 163,offline: 157,recommend: 4,choosing: 209,click_drive: 232,read_drive: 2090,reading: 7308\n",
      "ERROR:root:period: 164,offline: 160,recommend: 4,choosing: 247,click_drive: 204,read_drive: 2066,reading: 7319\n",
      "ERROR:root:period: 165,offline: 160,recommend: 3,choosing: 225,click_drive: 241,read_drive: 1987,reading: 7384\n",
      "ERROR:root:period: 166,offline: 160,recommend: 3,choosing: 222,click_drive: 217,read_drive: 2105,reading: 7293\n",
      "ERROR:root:period: 167,offline: 160,recommend: 1,choosing: 246,click_drive: 215,read_drive: 2030,reading: 7348\n",
      "ERROR:root:period: 168,offline: 156,recommend: 6,choosing: 206,click_drive: 240,read_drive: 2065,reading: 7327\n",
      "ERROR:root:period: 169,offline: 156,recommend: 3,choosing: 220,click_drive: 202,read_drive: 2088,reading: 7331\n",
      "ERROR:root:period: 170,offline: 154,recommend: 3,choosing: 251,click_drive: 213,read_drive: 1977,reading: 7402\n",
      "ERROR:root:period: 171,offline: 154,recommend: 2,choosing: 238,click_drive: 242,read_drive: 2080,reading: 7284\n",
      "ERROR:root:period: 172,offline: 152,recommend: 3,choosing: 205,click_drive: 232,read_drive: 2072,reading: 7336\n",
      "ERROR:root:period: 173,offline: 155,recommend: 1,choosing: 268,click_drive: 200,read_drive: 2083,reading: 7293\n",
      "ERROR:root:period: 174,offline: 151,recommend: 5,choosing: 230,click_drive: 263,read_drive: 2046,reading: 7305\n",
      "ERROR:root:period: 175,offline: 151,recommend: 2,choosing: 225,click_drive: 226,read_drive: 2012,reading: 7384\n",
      "ERROR:root:period: 176,offline: 150,recommend: 2,choosing: 242,click_drive: 219,read_drive: 2108,reading: 7279\n",
      "ERROR:root:period: 177,offline: 149,recommend: 2,choosing: 229,click_drive: 235,read_drive: 2030,reading: 7355\n",
      "ERROR:root:period: 178,offline: 150,recommend: 0,choosing: 227,click_drive: 225,read_drive: 2093,reading: 7305\n",
      "ERROR:root:period: 179,offline: 151,recommend: 1,choosing: 257,click_drive: 223,read_drive: 2053,reading: 7315\n",
      "ERROR:root:period: 180,offline: 150,recommend: 3,choosing: 229,click_drive: 255,read_drive: 1999,reading: 7364\n",
      "ERROR:root:period: 181,offline: 149,recommend: 3,choosing: 227,click_drive: 228,read_drive: 2141,reading: 7252\n",
      "ERROR:root:period: 182,offline: 145,recommend: 5,choosing: 289,click_drive: 223,read_drive: 2036,reading: 7302\n",
      "ERROR:root:period: 183,offline: 143,recommend: 2,choosing: 253,click_drive: 283,read_drive: 2063,reading: 7256\n",
      "ERROR:root:period: 184,offline: 140,recommend: 4,choosing: 240,click_drive: 245,read_drive: 2109,reading: 7262\n",
      "ERROR:root:period: 185,offline: 136,recommend: 6,choosing: 248,click_drive: 233,read_drive: 2019,reading: 7358\n",
      "ERROR:root:period: 186,offline: 136,recommend: 2,choosing: 213,click_drive: 242,read_drive: 2090,reading: 7317\n",
      "ERROR:root:period: 187,offline: 136,recommend: 3,choosing: 229,click_drive: 203,read_drive: 2033,reading: 7396\n",
      "ERROR:root:period: 188,offline: 135,recommend: 2,choosing: 246,click_drive: 221,read_drive: 2035,reading: 7361\n",
      "ERROR:root:period: 189,offline: 134,recommend: 4,choosing: 222,click_drive: 241,read_drive: 2090,reading: 7309\n",
      "ERROR:root:period: 190,offline: 133,recommend: 5,choosing: 217,click_drive: 217,read_drive: 2055,reading: 7373\n",
      "ERROR:root:period: 191,offline: 132,recommend: 3,choosing: 268,click_drive: 211,read_drive: 2088,reading: 7298\n",
      "ERROR:root:period: 192,offline: 128,recommend: 5,choosing: 234,click_drive: 259,read_drive: 2008,reading: 7366\n",
      "ERROR:root:period: 193,offline: 125,recommend: 4,choosing: 241,click_drive: 226,read_drive: 2078,reading: 7326\n",
      "ERROR:root:period: 194,offline: 128,recommend: 0,choosing: 275,click_drive: 233,read_drive: 2105,reading: 7259\n",
      "ERROR:root:period: 195,offline: 128,recommend: 1,choosing: 254,click_drive: 266,read_drive: 2030,reading: 7321\n",
      "ERROR:root:period: 196,offline: 125,recommend: 4,choosing: 228,click_drive: 250,read_drive: 2131,reading: 7262\n",
      "ERROR:root:period: 197,offline: 125,recommend: 4,choosing: 281,click_drive: 227,read_drive: 2026,reading: 7337\n",
      "ERROR:root:period: 198,offline: 124,recommend: 4,choosing: 229,click_drive: 276,read_drive: 2039,reading: 7328\n",
      "ERROR:root:period: 199,offline: 120,recommend: 4,choosing: 247,click_drive: 221,read_drive: 2136,reading: 7272\n",
      "ERROR:root:period: 200,offline: 120,recommend: 1,choosing: 265,click_drive: 239,read_drive: 2027,reading: 7348\n",
      "ERROR:root:period: 201,offline: 115,recommend: 7,choosing: 222,click_drive: 257,read_drive: 2092,reading: 7307\n",
      "ERROR:root:period: 202,offline: 114,recommend: 4,choosing: 256,click_drive: 217,read_drive: 2060,reading: 7349\n",
      "ERROR:root:period: 203,offline: 112,recommend: 4,choosing: 272,click_drive: 248,read_drive: 2019,reading: 7345\n",
      "ERROR:root:period: 204,offline: 111,recommend: 2,choosing: 245,click_drive: 261,read_drive: 2130,reading: 7251\n",
      "ERROR:root:period: 205,offline: 110,recommend: 2,choosing: 265,click_drive: 237,read_drive: 2074,reading: 7312\n",
      "ERROR:root:period: 206,offline: 112,recommend: 3,choosing: 275,click_drive: 259,read_drive: 2080,reading: 7271\n",
      "ERROR:root:period: 207,offline: 110,recommend: 4,choosing: 223,click_drive: 271,read_drive: 2057,reading: 7335\n",
      "ERROR:root:period: 208,offline: 110,recommend: 2,choosing: 244,click_drive: 218,read_drive: 2058,reading: 7368\n",
      "ERROR:root:period: 209,offline: 111,recommend: 1,choosing: 234,click_drive: 237,read_drive: 2091,reading: 7326\n",
      "ERROR:root:period: 210,offline: 109,recommend: 4,choosing: 255,click_drive: 228,read_drive: 2042,reading: 7362\n",
      "ERROR:root:period: 211,offline: 108,recommend: 3,choosing: 251,click_drive: 252,read_drive: 2090,reading: 7296\n",
      "ERROR:root:period: 212,offline: 105,recommend: 5,choosing: 271,click_drive: 246,read_drive: 2072,reading: 7301\n",
      "ERROR:root:period: 213,offline: 100,recommend: 6,choosing: 243,click_drive: 264,read_drive: 2078,reading: 7309\n",
      "ERROR:root:period: 214,offline: 93,recommend: 7,choosing: 262,click_drive: 235,read_drive: 2107,reading: 7296\n",
      "ERROR:root:period: 215,offline: 93,recommend: 3,choosing: 276,click_drive: 251,read_drive: 2030,reading: 7347\n",
      "ERROR:root:period: 216,offline: 91,recommend: 3,choosing: 254,click_drive: 263,read_drive: 2077,reading: 7312\n",
      "ERROR:root:period: 217,offline: 94,recommend: 1,choosing: 242,click_drive: 244,read_drive: 2100,reading: 7319\n",
      "ERROR:root:period: 218,offline: 97,recommend: 2,choosing: 250,click_drive: 236,read_drive: 2069,reading: 7346\n",
      "ERROR:root:period: 219,offline: 99,recommend: 3,choosing: 260,click_drive: 246,read_drive: 2080,reading: 7312\n",
      "ERROR:root:period: 220,offline: 100,recommend: 1,choosing: 258,click_drive: 257,read_drive: 2036,reading: 7348\n",
      "ERROR:root:period: 221,offline: 98,recommend: 2,choosing: 248,click_drive: 253,read_drive: 2105,reading: 7294\n",
      "ERROR:root:period: 222,offline: 98,recommend: 1,choosing: 261,click_drive: 244,read_drive: 2109,reading: 7287\n",
      "ERROR:root:period: 223,offline: 96,recommend: 4,choosing: 267,click_drive: 258,read_drive: 2057,reading: 7318\n"
     ]
    },
    {
     "name": "stderr",
     "output_type": "stream",
     "text": [
      "ERROR:root:period: 224,offline: 97,recommend: 1,choosing: 245,click_drive: 264,read_drive: 2084,reading: 7309\n",
      "ERROR:root:period: 225,offline: 96,recommend: 2,choosing: 270,click_drive: 240,read_drive: 2057,reading: 7335\n",
      "ERROR:root:period: 226,offline: 96,recommend: 1,choosing: 253,click_drive: 265,read_drive: 2089,reading: 7296\n",
      "ERROR:root:period: 227,offline: 96,recommend: 1,choosing: 265,click_drive: 250,read_drive: 2110,reading: 7278\n",
      "ERROR:root:period: 228,offline: 96,recommend: 1,choosing: 280,click_drive: 262,read_drive: 2068,reading: 7293\n",
      "ERROR:root:period: 229,offline: 95,recommend: 2,choosing: 233,click_drive: 278,read_drive: 2081,reading: 7311\n",
      "ERROR:root:period: 230,offline: 94,recommend: 2,choosing: 240,click_drive: 231,read_drive: 2088,reading: 7345\n",
      "ERROR:root:period: 231,offline: 93,recommend: 2,choosing: 269,click_drive: 237,read_drive: 2058,reading: 7341\n",
      "ERROR:root:period: 232,offline: 93,recommend: 1,choosing: 223,click_drive: 265,read_drive: 2070,reading: 7348\n",
      "ERROR:root:period: 233,offline: 93,recommend: 0,choosing: 247,click_drive: 219,read_drive: 2103,reading: 7338\n",
      "ERROR:root:period: 234,offline: 94,recommend: 1,choosing: 271,click_drive: 244,read_drive: 2062,reading: 7328\n",
      "ERROR:root:period: 235,offline: 94,recommend: 2,choosing: 242,click_drive: 270,read_drive: 2066,reading: 7326\n",
      "ERROR:root:period: 236,offline: 94,recommend: 2,choosing: 269,click_drive: 241,read_drive: 2109,reading: 7285\n",
      "ERROR:root:period: 237,offline: 92,recommend: 3,choosing: 276,click_drive: 266,read_drive: 2068,reading: 7295\n",
      "ERROR:root:period: 238,offline: 91,recommend: 1,choosing: 237,click_drive: 272,read_drive: 2101,reading: 7298\n",
      "ERROR:root:period: 239,offline: 89,recommend: 3,choosing: 260,click_drive: 232,read_drive: 2093,reading: 7323\n",
      "ERROR:root:period: 240,offline: 86,recommend: 4,choosing: 268,click_drive: 256,read_drive: 2031,reading: 7355\n",
      "ERROR:root:period: 241,offline: 85,recommend: 2,choosing: 241,click_drive: 264,read_drive: 2093,reading: 7315\n",
      "ERROR:root:period: 242,offline: 87,recommend: 1,choosing: 266,click_drive: 234,read_drive: 2099,reading: 7313\n",
      "ERROR:root:period: 243,offline: 86,recommend: 1,choosing: 264,click_drive: 260,read_drive: 2081,reading: 7308\n",
      "ERROR:root:period: 244,offline: 86,recommend: 3,choosing: 256,click_drive: 261,read_drive: 2089,reading: 7305\n",
      "ERROR:root:period: 245,offline: 88,recommend: 1,choosing: 273,click_drive: 254,read_drive: 2056,reading: 7328\n",
      "ERROR:root:period: 246,offline: 89,recommend: 1,choosing: 256,click_drive: 269,read_drive: 2088,reading: 7297\n",
      "ERROR:root:period: 247,offline: 86,recommend: 4,choosing: 249,click_drive: 252,read_drive: 2110,reading: 7299\n",
      "ERROR:root:period: 248,offline: 84,recommend: 3,choosing: 272,click_drive: 247,read_drive: 2080,reading: 7314\n",
      "ERROR:root:period: 249,offline: 86,recommend: 0,choosing: 275,click_drive: 267,read_drive: 2066,reading: 7306\n",
      "ERROR:root:period: 250,offline: 86,recommend: 1,choosing: 263,click_drive: 268,read_drive: 2071,reading: 7311\n",
      "ERROR:root:period: 251,offline: 85,recommend: 2,choosing: 285,click_drive: 260,read_drive: 2111,reading: 7257\n",
      "ERROR:root:period: 252,offline: 85,recommend: 3,choosing: 267,click_drive: 284,read_drive: 2101,reading: 7260\n",
      "ERROR:root:period: 253,offline: 85,recommend: 2,choosing: 280,click_drive: 264,read_drive: 2095,reading: 7274\n",
      "ERROR:root:period: 254,offline: 84,recommend: 1,choosing: 271,click_drive: 275,read_drive: 2074,reading: 7295\n",
      "ERROR:root:period: 255,offline: 84,recommend: 1,choosing: 259,click_drive: 266,read_drive: 2064,reading: 7326\n",
      "ERROR:root:period: 256,offline: 79,recommend: 5,choosing: 251,click_drive: 256,read_drive: 2113,reading: 7296\n",
      "ERROR:root:period: 257,offline: 80,recommend: 2,choosing: 266,click_drive: 249,read_drive: 2080,reading: 7323\n",
      "ERROR:root:period: 258,offline: 78,recommend: 2,choosing: 268,click_drive: 260,read_drive: 2080,reading: 7312\n",
      "ERROR:root:period: 259,offline: 77,recommend: 2,choosing: 251,click_drive: 261,read_drive: 2080,reading: 7329\n",
      "ERROR:root:period: 260,offline: 75,recommend: 2,choosing: 265,click_drive: 247,read_drive: 2078,reading: 7333\n",
      "ERROR:root:period: 261,offline: 75,recommend: 2,choosing: 280,click_drive: 261,read_drive: 2099,reading: 7283\n",
      "ERROR:root:period: 262,offline: 75,recommend: 2,choosing: 278,click_drive: 276,read_drive: 2079,reading: 7290\n",
      "ERROR:root:period: 263,offline: 74,recommend: 1,choosing: 255,click_drive: 274,read_drive: 2114,reading: 7282\n",
      "ERROR:root:period: 264,offline: 76,recommend: 0,choosing: 266,click_drive: 251,read_drive: 2093,reading: 7314\n",
      "ERROR:root:period: 265,offline: 74,recommend: 3,choosing: 243,click_drive: 263,read_drive: 2054,reading: 7363\n",
      "ERROR:root:period: 266,offline: 74,recommend: 1,choosing: 261,click_drive: 242,read_drive: 2089,reading: 7333\n",
      "ERROR:root:period: 267,offline: 72,recommend: 4,choosing: 253,click_drive: 258,read_drive: 2070,reading: 7343\n",
      "ERROR:root:period: 268,offline: 67,recommend: 5,choosing: 272,click_drive: 249,read_drive: 2111,reading: 7296\n",
      "ERROR:root:period: 269,offline: 62,recommend: 5,choosing: 285,click_drive: 267,read_drive: 2102,reading: 7279\n",
      "ERROR:root:period: 270,offline: 62,recommend: 2,choosing: 298,click_drive: 276,read_drive: 2062,reading: 7300\n",
      "ERROR:root:period: 271,offline: 62,recommend: 0,choosing: 253,click_drive: 288,read_drive: 2116,reading: 7281\n",
      "ERROR:root:period: 272,offline: 64,recommend: 1,choosing: 285,click_drive: 246,read_drive: 2091,reading: 7313\n",
      "ERROR:root:period: 273,offline: 66,recommend: 2,choosing: 257,click_drive: 283,read_drive: 2078,reading: 7314\n",
      "ERROR:root:period: 274,offline: 67,recommend: 2,choosing: 251,click_drive: 256,read_drive: 2098,reading: 7326\n",
      "ERROR:root:period: 275,offline: 67,recommend: 1,choosing: 278,click_drive: 248,read_drive: 2076,reading: 7330\n",
      "ERROR:root:period: 276,offline: 66,recommend: 1,choosing: 265,click_drive: 274,read_drive: 2086,reading: 7308\n",
      "ERROR:root:period: 277,offline: 66,recommend: 1,choosing: 248,click_drive: 262,read_drive: 2110,reading: 7313\n",
      "ERROR:root:period: 278,offline: 66,recommend: 1,choosing: 277,click_drive: 246,read_drive: 2091,reading: 7319\n",
      "ERROR:root:period: 279,offline: 66,recommend: 1,choosing: 246,click_drive: 275,read_drive: 2070,reading: 7342\n",
      "ERROR:root:period: 280,offline: 66,recommend: 1,choosing: 253,click_drive: 244,read_drive: 2090,reading: 7346\n",
      "ERROR:root:period: 281,offline: 66,recommend: 1,choosing: 282,click_drive: 251,read_drive: 2085,reading: 7315\n",
      "ERROR:root:period: 282,offline: 66,recommend: 1,choosing: 250,click_drive: 280,read_drive: 2086,reading: 7317\n",
      "ERROR:root:period: 283,offline: 67,recommend: 0,choosing: 259,click_drive: 248,read_drive: 2127,reading: 7299\n",
      "ERROR:root:period: 284,offline: 66,recommend: 2,choosing: 313,click_drive: 257,read_drive: 2067,reading: 7295\n",
      "ERROR:root:period: 285,offline: 65,recommend: 2,choosing: 247,click_drive: 312,read_drive: 2067,reading: 7307\n",
      "ERROR:root:period: 286,offline: 64,recommend: 2,choosing: 270,click_drive: 245,read_drive: 2149,reading: 7270\n",
      "ERROR:root:period: 287,offline: 64,recommend: 1,choosing: 286,click_drive: 266,read_drive: 2074,reading: 7309\n",
      "ERROR:root:period: 288,offline: 64,recommend: 0,choosing: 246,click_drive: 282,read_drive: 2082,reading: 7326\n",
      "ERROR:root:period: 289,offline: 65,recommend: 1,choosing: 260,click_drive: 243,read_drive: 2103,reading: 7328\n",
      "ERROR:root:period: 290,offline: 65,recommend: 1,choosing: 306,click_drive: 259,read_drive: 2043,reading: 7326\n",
      "ERROR:root:period: 291,offline: 65,recommend: 1,choosing: 244,click_drive: 305,read_drive: 2127,reading: 7258\n",
      "ERROR:root:period: 292,offline: 63,recommend: 3,choosing: 263,click_drive: 242,read_drive: 2137,reading: 7292\n",
      "ERROR:root:period: 293,offline: 63,recommend: 0,choosing: 286,click_drive: 261,read_drive: 2067,reading: 7323\n",
      "ERROR:root:period: 294,offline: 61,recommend: 3,choosing: 262,click_drive: 282,read_drive: 2059,reading: 7333\n",
      "ERROR:root:period: 295,offline: 59,recommend: 3,choosing: 251,click_drive: 259,read_drive: 2082,reading: 7346\n",
      "ERROR:root:period: 296,offline: 58,recommend: 2,choosing: 304,click_drive: 248,read_drive: 2125,reading: 7263\n",
      "ERROR:root:period: 297,offline: 60,recommend: 1,choosing: 250,click_drive: 298,read_drive: 2101,reading: 7290\n",
      "ERROR:root:period: 298,offline: 59,recommend: 1,choosing: 257,click_drive: 245,read_drive: 2107,reading: 7331\n"
     ]
    },
    {
     "name": "stderr",
     "output_type": "stream",
     "text": [
      "ERROR:root:period: 299,offline: 60,recommend: 2,choosing: 279,click_drive: 254,read_drive: 2056,reading: 7349\n",
      "ERROR:root:period: 300,offline: 62,recommend: 1,choosing: 271,click_drive: 277,read_drive: 2035,reading: 7354\n"
     ]
    }
   ],
   "source": [
    "action_machine = ActionMachine(novel_helper=novel_helper, robot_army=robot_army)\n",
    "action_machine.run(300)"
   ]
  },
  {
   "cell_type": "markdown",
   "metadata": {},
   "source": [
    "统计点击率"
   ]
  },
  {
   "cell_type": "code",
   "execution_count": 221,
   "metadata": {},
   "outputs": [
    {
     "data": {
      "text/plain": [
       "[(0.0, 311128)]"
      ]
     },
     "execution_count": 221,
     "metadata": {},
     "output_type": "execute_result"
    }
   ],
   "source": [
    "ctr_sql = \"\"\"select 1.0 * sum(case when t2.uid is not null then 1 else 0 end)/sum(1) as ctr, sum(1) as impr_cnt from\n",
    "(select uid, bid from novel_event where event = 'impression') t1 left join\n",
    "(select uid, bid from novel_event where event = 'go_detail') t2 on t1.uid = t2.uid and t1.bid = t2.bid\n",
    "\"\"\"\n",
    "read_count_per_book_sql = \"\"\"\n",
    "select bid, count(*) as read_cnt from novel_event where event = 'go_detail' \n",
    "group by bid order by read_cnt desc limit 1000\n",
    "\"\"\"\n",
    "how_many_book_sql = \"\"\"\n",
    "select count(distinct bid) from novel_event\n",
    "\"\"\"\n",
    "action_machine.query(ctr_sql, reprepare=False)\n"
   ]
  },
  {
   "cell_type": "code",
   "execution_count": 137,
   "metadata": {},
   "outputs": [
    {
     "data": {
      "text/plain": [
       "start_period=1, chapter_start=2, chapter_count=1"
      ]
     },
     "execution_count": 137,
     "metadata": {},
     "output_type": "execute_result"
    }
   ],
   "source": [
    "from action_machine import UbInfo\n",
    "ubi = UbInfo(1,2)\n",
    "score = 0.21\n",
    "ubi.next_chapter(score)\n",
    "ubi"
   ]
  },
  {
   "cell_type": "code",
   "execution_count": null,
   "metadata": {},
   "outputs": [],
   "source": []
  }
 ],
 "metadata": {
  "kernelspec": {
   "display_name": "Python 3",
   "language": "python",
   "name": "python3"
  },
  "language_info": {
   "codemirror_mode": {
    "name": "ipython",
    "version": 3
   },
   "file_extension": ".py",
   "mimetype": "text/x-python",
   "name": "python",
   "nbconvert_exporter": "python",
   "pygments_lexer": "ipython3",
   "version": "3.6.3"
  },
  "toc": {
   "base_numbering": 1,
   "nav_menu": {},
   "number_sections": true,
   "sideBar": true,
   "skip_h1_title": false,
   "title_cell": "Table of Contents",
   "title_sidebar": "Contents",
   "toc_cell": false,
   "toc_position": {},
   "toc_section_display": true,
   "toc_window_display": false
  }
 },
 "nbformat": 4,
 "nbformat_minor": 4
}
